{
 "cells": [
  {
   "cell_type": "markdown",
   "id": "2599903a",
   "metadata": {},
   "source": [
    "<a href=\"https://www.kaggle.com/code/bhanupratapbiswas/sales-prediction-using-python?scriptVersionId=139602689\" target=\"_blank\"><img align=\"left\" alt=\"Kaggle\" title=\"Open in Kaggle\" src=\"https://kaggle.com/static/images/open-in-kaggle.svg\"></a>"
   ]
  },
  {
   "cell_type": "markdown",
   "id": "c88af4a9",
   "metadata": {
    "papermill": {
     "duration": 0.012656,
     "end_time": "2023-08-11T09:24:11.511611",
     "exception": false,
     "start_time": "2023-08-11T09:24:11.498955",
     "status": "completed"
    },
    "tags": []
   },
   "source": [
    "<center><img src=\"https://www.embedded-robotics.com/wp-content/uploads/2022/04/Forecast-Sales-using-Machine-Learning-1024x683.jpeg\" wedth=\"100%\" ></center>\n",
    "<div style=\"padding: 25px;color:white;margin:10;font-size:200%;text-align:center;display:fill;border-radius:10px;overflow:hidden;background-image: url(https://img.freepik.com/free-photo/abstract-grunge-decorative-relief-navy-blue-stucco-wall-texture-wide-angle-rough-colored-background_1258-28311.jpg?w=2000)\"><b><span style='color:white; font-size:45px;'>SALES PREDICTION USING PYTHON</span></b> </div>\n",
    "<p Style=\"color:blue; font-size:25px; border: 5px solid blue\">Sales prediction using Python can be accomplished through various machine learning techniques. Here, I'll outline a basic approach using linear regression as an example. Keep in mind that more advanced techniques might provide better results, depending on your data and specific requirements.</p>"
   ]
  },
  {
   "cell_type": "markdown",
   "id": "7d3fc002",
   "metadata": {
    "papermill": {
     "duration": 0.011615,
     "end_time": "2023-08-11T09:24:11.535255",
     "exception": false,
     "start_time": "2023-08-11T09:24:11.52364",
     "status": "completed"
    },
    "tags": []
   },
   "source": [
    "<h1 style=\"border:3px solid darkred; padding: 15px;color:white;margin:10;font-size:200%;text-align:center;display:fill;border-radius:10px;overflow:hidden; color:darkred;font-weight:bold; font-size:45px;\">Import Libraries</h1>"
   ]
  },
  {
   "cell_type": "code",
   "execution_count": 1,
   "id": "a0c76e7c",
   "metadata": {
    "execution": {
     "iopub.execute_input": "2023-08-11T09:24:11.562832Z",
     "iopub.status.busy": "2023-08-11T09:24:11.561986Z",
     "iopub.status.idle": "2023-08-11T09:24:13.249762Z",
     "shell.execute_reply": "2023-08-11T09:24:13.248476Z"
    },
    "papermill": {
     "duration": 1.703582,
     "end_time": "2023-08-11T09:24:13.251968",
     "exception": false,
     "start_time": "2023-08-11T09:24:11.548386",
     "status": "completed"
    },
    "tags": []
   },
   "outputs": [
    {
     "name": "stderr",
     "output_type": "stream",
     "text": [
      "/opt/conda/lib/python3.10/site-packages/scipy/__init__.py:146: UserWarning: A NumPy version >=1.16.5 and <1.23.0 is required for this version of SciPy (detected version 1.23.5\n",
      "  warnings.warn(f\"A NumPy version >={np_minversion} and <{np_maxversion}\"\n"
     ]
    },
    {
     "name": "stdout",
     "output_type": "stream",
     "text": [
      "/kaggle/input/data-visualizatiion/insurance.csv\n",
      "/kaggle/input/advertising-dataset/advertising.csv\n"
     ]
    }
   ],
   "source": [
    "import numpy as np \n",
    "import pandas as pd\n",
    "import matplotlib.pyplot as plt \n",
    "import seaborn as sns\n",
    "from sklearn.model_selection import train_test_split\n",
    "from sklearn.linear_model import LinearRegression\n",
    "from sklearn.metrics import mean_squared_error, r2_score\n",
    "from sklearn.model_selection import train_test_split\n",
    "import warnings\n",
    "warnings.filterwarnings('ignore')\n",
    "import os\n",
    "for dirname, _, filenames in os.walk('/kaggle/input'):\n",
    "    for filename in filenames:\n",
    "        print(os.path.join(dirname, filename))"
   ]
  },
  {
   "cell_type": "code",
   "execution_count": 2,
   "id": "0b972d4c",
   "metadata": {
    "execution": {
     "iopub.execute_input": "2023-08-11T09:24:13.278199Z",
     "iopub.status.busy": "2023-08-11T09:24:13.2773Z",
     "iopub.status.idle": "2023-08-11T09:24:13.320929Z",
     "shell.execute_reply": "2023-08-11T09:24:13.319882Z"
    },
    "papermill": {
     "duration": 0.058976,
     "end_time": "2023-08-11T09:24:13.323096",
     "exception": false,
     "start_time": "2023-08-11T09:24:13.26412",
     "status": "completed"
    },
    "tags": []
   },
   "outputs": [
    {
     "data": {
      "text/html": [
       "<div>\n",
       "<style scoped>\n",
       "    .dataframe tbody tr th:only-of-type {\n",
       "        vertical-align: middle;\n",
       "    }\n",
       "\n",
       "    .dataframe tbody tr th {\n",
       "        vertical-align: top;\n",
       "    }\n",
       "\n",
       "    .dataframe thead th {\n",
       "        text-align: right;\n",
       "    }\n",
       "</style>\n",
       "<table border=\"1\" class=\"dataframe\">\n",
       "  <thead>\n",
       "    <tr style=\"text-align: right;\">\n",
       "      <th></th>\n",
       "      <th>age</th>\n",
       "      <th>sex</th>\n",
       "      <th>bmi</th>\n",
       "      <th>children</th>\n",
       "      <th>smoker</th>\n",
       "      <th>region</th>\n",
       "      <th>charges</th>\n",
       "    </tr>\n",
       "  </thead>\n",
       "  <tbody>\n",
       "    <tr>\n",
       "      <th>0</th>\n",
       "      <td>19</td>\n",
       "      <td>female</td>\n",
       "      <td>27.900</td>\n",
       "      <td>0</td>\n",
       "      <td>yes</td>\n",
       "      <td>southwest</td>\n",
       "      <td>16884.92400</td>\n",
       "    </tr>\n",
       "    <tr>\n",
       "      <th>1</th>\n",
       "      <td>18</td>\n",
       "      <td>male</td>\n",
       "      <td>33.770</td>\n",
       "      <td>1</td>\n",
       "      <td>no</td>\n",
       "      <td>southeast</td>\n",
       "      <td>1725.55230</td>\n",
       "    </tr>\n",
       "    <tr>\n",
       "      <th>2</th>\n",
       "      <td>28</td>\n",
       "      <td>male</td>\n",
       "      <td>33.000</td>\n",
       "      <td>3</td>\n",
       "      <td>no</td>\n",
       "      <td>southeast</td>\n",
       "      <td>4449.46200</td>\n",
       "    </tr>\n",
       "    <tr>\n",
       "      <th>3</th>\n",
       "      <td>33</td>\n",
       "      <td>male</td>\n",
       "      <td>22.705</td>\n",
       "      <td>0</td>\n",
       "      <td>no</td>\n",
       "      <td>northwest</td>\n",
       "      <td>21984.47061</td>\n",
       "    </tr>\n",
       "    <tr>\n",
       "      <th>4</th>\n",
       "      <td>32</td>\n",
       "      <td>male</td>\n",
       "      <td>28.880</td>\n",
       "      <td>0</td>\n",
       "      <td>no</td>\n",
       "      <td>northwest</td>\n",
       "      <td>3866.85520</td>\n",
       "    </tr>\n",
       "    <tr>\n",
       "      <th>...</th>\n",
       "      <td>...</td>\n",
       "      <td>...</td>\n",
       "      <td>...</td>\n",
       "      <td>...</td>\n",
       "      <td>...</td>\n",
       "      <td>...</td>\n",
       "      <td>...</td>\n",
       "    </tr>\n",
       "    <tr>\n",
       "      <th>1333</th>\n",
       "      <td>50</td>\n",
       "      <td>male</td>\n",
       "      <td>30.970</td>\n",
       "      <td>3</td>\n",
       "      <td>no</td>\n",
       "      <td>northwest</td>\n",
       "      <td>10600.54830</td>\n",
       "    </tr>\n",
       "    <tr>\n",
       "      <th>1334</th>\n",
       "      <td>18</td>\n",
       "      <td>female</td>\n",
       "      <td>31.920</td>\n",
       "      <td>0</td>\n",
       "      <td>no</td>\n",
       "      <td>northeast</td>\n",
       "      <td>2205.98080</td>\n",
       "    </tr>\n",
       "    <tr>\n",
       "      <th>1335</th>\n",
       "      <td>18</td>\n",
       "      <td>female</td>\n",
       "      <td>36.850</td>\n",
       "      <td>0</td>\n",
       "      <td>no</td>\n",
       "      <td>southeast</td>\n",
       "      <td>1629.83350</td>\n",
       "    </tr>\n",
       "    <tr>\n",
       "      <th>1336</th>\n",
       "      <td>21</td>\n",
       "      <td>female</td>\n",
       "      <td>25.800</td>\n",
       "      <td>0</td>\n",
       "      <td>no</td>\n",
       "      <td>southwest</td>\n",
       "      <td>2007.94500</td>\n",
       "    </tr>\n",
       "    <tr>\n",
       "      <th>1337</th>\n",
       "      <td>61</td>\n",
       "      <td>female</td>\n",
       "      <td>29.070</td>\n",
       "      <td>0</td>\n",
       "      <td>yes</td>\n",
       "      <td>northwest</td>\n",
       "      <td>29141.36030</td>\n",
       "    </tr>\n",
       "  </tbody>\n",
       "</table>\n",
       "<p>1338 rows × 7 columns</p>\n",
       "</div>"
      ],
      "text/plain": [
       "      age     sex     bmi  children smoker     region      charges\n",
       "0      19  female  27.900         0    yes  southwest  16884.92400\n",
       "1      18    male  33.770         1     no  southeast   1725.55230\n",
       "2      28    male  33.000         3     no  southeast   4449.46200\n",
       "3      33    male  22.705         0     no  northwest  21984.47061\n",
       "4      32    male  28.880         0     no  northwest   3866.85520\n",
       "...   ...     ...     ...       ...    ...        ...          ...\n",
       "1333   50    male  30.970         3     no  northwest  10600.54830\n",
       "1334   18  female  31.920         0     no  northeast   2205.98080\n",
       "1335   18  female  36.850         0     no  southeast   1629.83350\n",
       "1336   21  female  25.800         0     no  southwest   2007.94500\n",
       "1337   61  female  29.070         0    yes  northwest  29141.36030\n",
       "\n",
       "[1338 rows x 7 columns]"
      ]
     },
     "execution_count": 2,
     "metadata": {},
     "output_type": "execute_result"
    }
   ],
   "source": [
    "insurance = pd.read_csv('/kaggle/input/data-visualizatiion/insurance.csv')\n",
    "insurance"
   ]
  },
  {
   "cell_type": "markdown",
   "id": "80413a0a",
   "metadata": {
    "papermill": {
     "duration": 0.012255,
     "end_time": "2023-08-11T09:24:13.34825",
     "exception": false,
     "start_time": "2023-08-11T09:24:13.335995",
     "status": "completed"
    },
    "tags": []
   },
   "source": [
    "<h1 style=\"border:3px solid blue; padding: 15px;color:white;margin:10;font-size:200%;text-align:center;display:fill;border-radius:10px;overflow:hidden; color:blue;font-weight:bold; font-size:45px;\">Data Exploration</h1>"
   ]
  },
  {
   "cell_type": "code",
   "execution_count": 3,
   "id": "7320c6dc",
   "metadata": {
    "execution": {
     "iopub.execute_input": "2023-08-11T09:24:13.377995Z",
     "iopub.status.busy": "2023-08-11T09:24:13.3768Z",
     "iopub.status.idle": "2023-08-11T09:24:13.382904Z",
     "shell.execute_reply": "2023-08-11T09:24:13.382123Z"
    },
    "papermill": {
     "duration": 0.023023,
     "end_time": "2023-08-11T09:24:13.384724",
     "exception": false,
     "start_time": "2023-08-11T09:24:13.361701",
     "status": "completed"
    },
    "tags": []
   },
   "outputs": [
    {
     "data": {
      "text/plain": [
       "(1338, 7)"
      ]
     },
     "execution_count": 3,
     "metadata": {},
     "output_type": "execute_result"
    }
   ],
   "source": [
    "insurance.shape"
   ]
  },
  {
   "cell_type": "code",
   "execution_count": 4,
   "id": "0d6de3af",
   "metadata": {
    "execution": {
     "iopub.execute_input": "2023-08-11T09:24:13.4108Z",
     "iopub.status.busy": "2023-08-11T09:24:13.410414Z",
     "iopub.status.idle": "2023-08-11T09:24:13.433164Z",
     "shell.execute_reply": "2023-08-11T09:24:13.431987Z"
    },
    "papermill": {
     "duration": 0.038297,
     "end_time": "2023-08-11T09:24:13.435315",
     "exception": false,
     "start_time": "2023-08-11T09:24:13.397018",
     "status": "completed"
    },
    "tags": []
   },
   "outputs": [
    {
     "name": "stdout",
     "output_type": "stream",
     "text": [
      "<class 'pandas.core.frame.DataFrame'>\n",
      "RangeIndex: 1338 entries, 0 to 1337\n",
      "Data columns (total 7 columns):\n",
      " #   Column    Non-Null Count  Dtype  \n",
      "---  ------    --------------  -----  \n",
      " 0   age       1338 non-null   int64  \n",
      " 1   sex       1338 non-null   object \n",
      " 2   bmi       1338 non-null   float64\n",
      " 3   children  1338 non-null   int64  \n",
      " 4   smoker    1338 non-null   object \n",
      " 5   region    1338 non-null   object \n",
      " 6   charges   1338 non-null   float64\n",
      "dtypes: float64(2), int64(2), object(3)\n",
      "memory usage: 73.3+ KB\n"
     ]
    }
   ],
   "source": [
    "insurance.info()"
   ]
  },
  {
   "cell_type": "code",
   "execution_count": 5,
   "id": "ccb05831",
   "metadata": {
    "execution": {
     "iopub.execute_input": "2023-08-11T09:24:13.462884Z",
     "iopub.status.busy": "2023-08-11T09:24:13.462201Z",
     "iopub.status.idle": "2023-08-11T09:24:13.468661Z",
     "shell.execute_reply": "2023-08-11T09:24:13.467477Z"
    },
    "papermill": {
     "duration": 0.0228,
     "end_time": "2023-08-11T09:24:13.470766",
     "exception": false,
     "start_time": "2023-08-11T09:24:13.447966",
     "status": "completed"
    },
    "tags": []
   },
   "outputs": [
    {
     "name": "stdout",
     "output_type": "stream",
     "text": [
      "['female' 'male']\n",
      "['yes' 'no']\n",
      "['southwest' 'southeast' 'northwest' 'northeast']\n"
     ]
    }
   ],
   "source": [
    "print(insurance['sex'].unique())\n",
    "print(insurance['smoker'].unique())\n",
    "print(insurance['region'].unique())"
   ]
  },
  {
   "cell_type": "code",
   "execution_count": 6,
   "id": "e491fcb2",
   "metadata": {
    "execution": {
     "iopub.execute_input": "2023-08-11T09:24:13.498609Z",
     "iopub.status.busy": "2023-08-11T09:24:13.498193Z",
     "iopub.status.idle": "2023-08-11T09:24:13.517059Z",
     "shell.execute_reply": "2023-08-11T09:24:13.516054Z"
    },
    "papermill": {
     "duration": 0.035261,
     "end_time": "2023-08-11T09:24:13.519128",
     "exception": false,
     "start_time": "2023-08-11T09:24:13.483867",
     "status": "completed"
    },
    "tags": []
   },
   "outputs": [
    {
     "data": {
      "text/html": [
       "<div>\n",
       "<style scoped>\n",
       "    .dataframe tbody tr th:only-of-type {\n",
       "        vertical-align: middle;\n",
       "    }\n",
       "\n",
       "    .dataframe tbody tr th {\n",
       "        vertical-align: top;\n",
       "    }\n",
       "\n",
       "    .dataframe thead th {\n",
       "        text-align: right;\n",
       "    }\n",
       "</style>\n",
       "<table border=\"1\" class=\"dataframe\">\n",
       "  <thead>\n",
       "    <tr style=\"text-align: right;\">\n",
       "      <th></th>\n",
       "      <th>age</th>\n",
       "      <th>sex</th>\n",
       "      <th>bmi</th>\n",
       "      <th>children</th>\n",
       "      <th>smoker</th>\n",
       "      <th>region</th>\n",
       "      <th>charges</th>\n",
       "    </tr>\n",
       "  </thead>\n",
       "  <tbody>\n",
       "    <tr>\n",
       "      <th>0</th>\n",
       "      <td>19</td>\n",
       "      <td>1</td>\n",
       "      <td>27.900</td>\n",
       "      <td>0</td>\n",
       "      <td>1</td>\n",
       "      <td>0</td>\n",
       "      <td>16884.92400</td>\n",
       "    </tr>\n",
       "    <tr>\n",
       "      <th>1</th>\n",
       "      <td>18</td>\n",
       "      <td>0</td>\n",
       "      <td>33.770</td>\n",
       "      <td>1</td>\n",
       "      <td>0</td>\n",
       "      <td>1</td>\n",
       "      <td>1725.55230</td>\n",
       "    </tr>\n",
       "    <tr>\n",
       "      <th>2</th>\n",
       "      <td>28</td>\n",
       "      <td>0</td>\n",
       "      <td>33.000</td>\n",
       "      <td>3</td>\n",
       "      <td>0</td>\n",
       "      <td>1</td>\n",
       "      <td>4449.46200</td>\n",
       "    </tr>\n",
       "    <tr>\n",
       "      <th>3</th>\n",
       "      <td>33</td>\n",
       "      <td>0</td>\n",
       "      <td>22.705</td>\n",
       "      <td>0</td>\n",
       "      <td>0</td>\n",
       "      <td>2</td>\n",
       "      <td>21984.47061</td>\n",
       "    </tr>\n",
       "    <tr>\n",
       "      <th>4</th>\n",
       "      <td>32</td>\n",
       "      <td>0</td>\n",
       "      <td>28.880</td>\n",
       "      <td>0</td>\n",
       "      <td>0</td>\n",
       "      <td>2</td>\n",
       "      <td>3866.85520</td>\n",
       "    </tr>\n",
       "  </tbody>\n",
       "</table>\n",
       "</div>"
      ],
      "text/plain": [
       "   age  sex     bmi  children  smoker  region      charges\n",
       "0   19    1  27.900         0       1       0  16884.92400\n",
       "1   18    0  33.770         1       0       1   1725.55230\n",
       "2   28    0  33.000         3       0       1   4449.46200\n",
       "3   33    0  22.705         0       0       2  21984.47061\n",
       "4   32    0  28.880         0       0       2   3866.85520"
      ]
     },
     "execution_count": 6,
     "metadata": {},
     "output_type": "execute_result"
    }
   ],
   "source": [
    "insurance['sex'].replace(['male','female'],[0,1],inplace= True)\n",
    "insurance['smoker'].replace(['yes','no'],[1,0],inplace= True)\n",
    "insurance['region'].replace(['southwest','southeast','northwest','northeast'],[0,1,2,3],inplace= True)\n",
    "insurance.head()"
   ]
  },
  {
   "cell_type": "code",
   "execution_count": 7,
   "id": "3a74e2f5",
   "metadata": {
    "execution": {
     "iopub.execute_input": "2023-08-11T09:24:13.546958Z",
     "iopub.status.busy": "2023-08-11T09:24:13.546573Z",
     "iopub.status.idle": "2023-08-11T09:24:13.580125Z",
     "shell.execute_reply": "2023-08-11T09:24:13.579105Z"
    },
    "papermill": {
     "duration": 0.049764,
     "end_time": "2023-08-11T09:24:13.582152",
     "exception": false,
     "start_time": "2023-08-11T09:24:13.532388",
     "status": "completed"
    },
    "tags": []
   },
   "outputs": [
    {
     "data": {
      "text/html": [
       "<div>\n",
       "<style scoped>\n",
       "    .dataframe tbody tr th:only-of-type {\n",
       "        vertical-align: middle;\n",
       "    }\n",
       "\n",
       "    .dataframe tbody tr th {\n",
       "        vertical-align: top;\n",
       "    }\n",
       "\n",
       "    .dataframe thead th {\n",
       "        text-align: right;\n",
       "    }\n",
       "</style>\n",
       "<table border=\"1\" class=\"dataframe\">\n",
       "  <thead>\n",
       "    <tr style=\"text-align: right;\">\n",
       "      <th></th>\n",
       "      <th>age</th>\n",
       "      <th>sex</th>\n",
       "      <th>bmi</th>\n",
       "      <th>children</th>\n",
       "      <th>smoker</th>\n",
       "      <th>region</th>\n",
       "      <th>charges</th>\n",
       "    </tr>\n",
       "  </thead>\n",
       "  <tbody>\n",
       "    <tr>\n",
       "      <th>count</th>\n",
       "      <td>1338.000000</td>\n",
       "      <td>1338.000000</td>\n",
       "      <td>1338.000000</td>\n",
       "      <td>1338.000000</td>\n",
       "      <td>1338.000000</td>\n",
       "      <td>1338.000000</td>\n",
       "      <td>1338.000000</td>\n",
       "    </tr>\n",
       "    <tr>\n",
       "      <th>mean</th>\n",
       "      <td>39.207025</td>\n",
       "      <td>0.494768</td>\n",
       "      <td>30.663397</td>\n",
       "      <td>1.094918</td>\n",
       "      <td>0.204783</td>\n",
       "      <td>1.484305</td>\n",
       "      <td>13270.422265</td>\n",
       "    </tr>\n",
       "    <tr>\n",
       "      <th>std</th>\n",
       "      <td>14.049960</td>\n",
       "      <td>0.500160</td>\n",
       "      <td>6.098187</td>\n",
       "      <td>1.205493</td>\n",
       "      <td>0.403694</td>\n",
       "      <td>1.104885</td>\n",
       "      <td>12110.011237</td>\n",
       "    </tr>\n",
       "    <tr>\n",
       "      <th>min</th>\n",
       "      <td>18.000000</td>\n",
       "      <td>0.000000</td>\n",
       "      <td>15.960000</td>\n",
       "      <td>0.000000</td>\n",
       "      <td>0.000000</td>\n",
       "      <td>0.000000</td>\n",
       "      <td>1121.873900</td>\n",
       "    </tr>\n",
       "    <tr>\n",
       "      <th>25%</th>\n",
       "      <td>27.000000</td>\n",
       "      <td>0.000000</td>\n",
       "      <td>26.296250</td>\n",
       "      <td>0.000000</td>\n",
       "      <td>0.000000</td>\n",
       "      <td>1.000000</td>\n",
       "      <td>4740.287150</td>\n",
       "    </tr>\n",
       "    <tr>\n",
       "      <th>50%</th>\n",
       "      <td>39.000000</td>\n",
       "      <td>0.000000</td>\n",
       "      <td>30.400000</td>\n",
       "      <td>1.000000</td>\n",
       "      <td>0.000000</td>\n",
       "      <td>1.000000</td>\n",
       "      <td>9382.033000</td>\n",
       "    </tr>\n",
       "    <tr>\n",
       "      <th>75%</th>\n",
       "      <td>51.000000</td>\n",
       "      <td>1.000000</td>\n",
       "      <td>34.693750</td>\n",
       "      <td>2.000000</td>\n",
       "      <td>0.000000</td>\n",
       "      <td>2.000000</td>\n",
       "      <td>16639.912515</td>\n",
       "    </tr>\n",
       "    <tr>\n",
       "      <th>max</th>\n",
       "      <td>64.000000</td>\n",
       "      <td>1.000000</td>\n",
       "      <td>53.130000</td>\n",
       "      <td>5.000000</td>\n",
       "      <td>1.000000</td>\n",
       "      <td>3.000000</td>\n",
       "      <td>63770.428010</td>\n",
       "    </tr>\n",
       "  </tbody>\n",
       "</table>\n",
       "</div>"
      ],
      "text/plain": [
       "               age          sex          bmi     children       smoker  \\\n",
       "count  1338.000000  1338.000000  1338.000000  1338.000000  1338.000000   \n",
       "mean     39.207025     0.494768    30.663397     1.094918     0.204783   \n",
       "std      14.049960     0.500160     6.098187     1.205493     0.403694   \n",
       "min      18.000000     0.000000    15.960000     0.000000     0.000000   \n",
       "25%      27.000000     0.000000    26.296250     0.000000     0.000000   \n",
       "50%      39.000000     0.000000    30.400000     1.000000     0.000000   \n",
       "75%      51.000000     1.000000    34.693750     2.000000     0.000000   \n",
       "max      64.000000     1.000000    53.130000     5.000000     1.000000   \n",
       "\n",
       "            region       charges  \n",
       "count  1338.000000   1338.000000  \n",
       "mean      1.484305  13270.422265  \n",
       "std       1.104885  12110.011237  \n",
       "min       0.000000   1121.873900  \n",
       "25%       1.000000   4740.287150  \n",
       "50%       1.000000   9382.033000  \n",
       "75%       2.000000  16639.912515  \n",
       "max       3.000000  63770.428010  "
      ]
     },
     "execution_count": 7,
     "metadata": {},
     "output_type": "execute_result"
    }
   ],
   "source": [
    "insurance.describe()"
   ]
  },
  {
   "cell_type": "markdown",
   "id": "fb07d451",
   "metadata": {
    "papermill": {
     "duration": 0.012799,
     "end_time": "2023-08-11T09:24:13.607853",
     "exception": false,
     "start_time": "2023-08-11T09:24:13.595054",
     "status": "completed"
    },
    "tags": []
   },
   "source": [
    "<h1 style=\"border:3px solid blue; padding: 15px;color:white;margin:10;font-size:200%;text-align:center;display:fill;border-radius:10px;overflow:hidden; color:blue;font-weight:bold; font-size:45px;\">Data Cleaning</h1>"
   ]
  },
  {
   "cell_type": "code",
   "execution_count": 8,
   "id": "9a2e3e3b",
   "metadata": {
    "execution": {
     "iopub.execute_input": "2023-08-11T09:24:13.634998Z",
     "iopub.status.busy": "2023-08-11T09:24:13.634615Z",
     "iopub.status.idle": "2023-08-11T09:24:13.644972Z",
     "shell.execute_reply": "2023-08-11T09:24:13.643927Z"
    },
    "papermill": {
     "duration": 0.026267,
     "end_time": "2023-08-11T09:24:13.646996",
     "exception": false,
     "start_time": "2023-08-11T09:24:13.620729",
     "status": "completed"
    },
    "tags": []
   },
   "outputs": [
    {
     "data": {
      "text/plain": [
       "age         0.0\n",
       "sex         0.0\n",
       "bmi         0.0\n",
       "children    0.0\n",
       "smoker      0.0\n",
       "region      0.0\n",
       "charges     0.0\n",
       "dtype: float64"
      ]
     },
     "execution_count": 8,
     "metadata": {},
     "output_type": "execute_result"
    }
   ],
   "source": [
    "# Checking Null values\n",
    "insurance.isnull().sum()*100/insurance.shape[0]\n",
    "# There are no NULL values in the dataset, hence it is clean."
   ]
  },
  {
   "cell_type": "code",
   "execution_count": 9,
   "id": "43dcae47",
   "metadata": {
    "execution": {
     "iopub.execute_input": "2023-08-11T09:24:13.675327Z",
     "iopub.status.busy": "2023-08-11T09:24:13.674952Z",
     "iopub.status.idle": "2023-08-11T09:24:14.420435Z",
     "shell.execute_reply": "2023-08-11T09:24:14.419382Z"
    },
    "papermill": {
     "duration": 0.76257,
     "end_time": "2023-08-11T09:24:14.422726",
     "exception": false,
     "start_time": "2023-08-11T09:24:13.660156",
     "status": "completed"
    },
    "tags": []
   },
   "outputs": [
    {
     "data": {
      "image/png": "[encoded data removed]",
      "text/plain": [
       "<Figure size 500x1000 with 6 Axes>"
      ]
     },
     "metadata": {},
     "output_type": "display_data"
    }
   ],
   "source": [
    "# Outlier Analysis\n",
    "fig, axs = plt.subplots(6, figsize = (5,10))\n",
    "plt1 = sns.boxplot(insurance['age'], ax = axs[0])\n",
    "plt2 = sns.boxplot(insurance['sex'], ax = axs[1])\n",
    "plt3 = sns.boxplot(insurance['bmi'], ax = axs[2])\n",
    "plt4 = sns.boxplot(insurance['children'], ax = axs[3])\n",
    "plt5 = sns.boxplot(insurance['smoker'], ax = axs[4])\n",
    "plt6 = sns.boxplot(insurance['region'], ax = axs[5])\n",
    "plt.tight_layout()"
   ]
  },
  {
   "cell_type": "markdown",
   "id": "e2064e3a",
   "metadata": {
    "papermill": {
     "duration": 0.014322,
     "end_time": "2023-08-11T09:24:14.451019",
     "exception": false,
     "start_time": "2023-08-11T09:24:14.436697",
     "status": "completed"
    },
    "tags": []
   },
   "source": [
    "<h1 style=\"border:3px solid blue; padding: 15px;color:white;margin:10;font-size:200%;text-align:center;display:fill;border-radius:10px;overflow:hidden; color:blue;font-weight:bold; font-size:45px;\">Exploratory Data Analysis</h1>\n",
    "Sales (Target Variable)"
   ]
  },
  {
   "cell_type": "code",
   "execution_count": 10,
   "id": "58d5282a",
   "metadata": {
    "execution": {
     "iopub.execute_input": "2023-08-11T09:24:14.481059Z",
     "iopub.status.busy": "2023-08-11T09:24:14.480665Z",
     "iopub.status.idle": "2023-08-11T09:24:14.658444Z",
     "shell.execute_reply": "2023-08-11T09:24:14.657329Z"
    },
    "papermill": {
     "duration": 0.195462,
     "end_time": "2023-08-11T09:24:14.660667",
     "exception": false,
     "start_time": "2023-08-11T09:24:14.465205",
     "status": "completed"
    },
    "tags": []
   },
   "outputs": [
    {
     "data": {
      "image/png": "[encoded data removed]",
      "text/plain": [
       "<Figure size 640x480 with 1 Axes>"
      ]
     },
     "metadata": {},
     "output_type": "display_data"
    }
   ],
   "source": [
    "sns.boxplot(insurance['charges'])\n",
    "plt.show()"
   ]
  },
  {
   "cell_type": "code",
   "execution_count": 11,
   "id": "199bc360",
   "metadata": {
    "execution": {
     "iopub.execute_input": "2023-08-11T09:24:14.690687Z",
     "iopub.status.busy": "2023-08-11T09:24:14.690055Z",
     "iopub.status.idle": "2023-08-11T09:24:16.09397Z",
     "shell.execute_reply": "2023-08-11T09:24:16.092755Z"
    },
    "papermill": {
     "duration": 1.422502,
     "end_time": "2023-08-11T09:24:16.097199",
     "exception": false,
     "start_time": "2023-08-11T09:24:14.674697",
     "status": "completed"
    },
    "tags": []
   },
   "outputs": [
    {
     "data": {
      "image/png": "[encoded data removed]",
      "text/plain": [
       "<Figure size 2400x400 with 6 Axes>"
      ]
     },
     "metadata": {},
     "output_type": "display_data"
    }
   ],
   "source": [
    "# Let's see how Sales are related with other variables using scatter plot.\n",
    "sns.pairplot(insurance, x_vars=['age', 'sex', 'bmi','children','smoker','region'], y_vars='charges', height=4, aspect=1, kind='scatter')\n",
    "plt.show()"
   ]
  },
  {
   "cell_type": "code",
   "execution_count": 12,
   "id": "8b3c34e3",
   "metadata": {
    "execution": {
     "iopub.execute_input": "2023-08-11T09:24:16.134459Z",
     "iopub.status.busy": "2023-08-11T09:24:16.133432Z",
     "iopub.status.idle": "2023-08-11T09:24:16.149181Z",
     "shell.execute_reply": "2023-08-11T09:24:16.148454Z"
    },
    "papermill": {
     "duration": 0.036585,
     "end_time": "2023-08-11T09:24:16.151211",
     "exception": false,
     "start_time": "2023-08-11T09:24:16.114626",
     "status": "completed"
    },
    "tags": []
   },
   "outputs": [
    {
     "data": {
      "text/html": [
       "<div>\n",
       "<style scoped>\n",
       "    .dataframe tbody tr th:only-of-type {\n",
       "        vertical-align: middle;\n",
       "    }\n",
       "\n",
       "    .dataframe tbody tr th {\n",
       "        vertical-align: top;\n",
       "    }\n",
       "\n",
       "    .dataframe thead th {\n",
       "        text-align: right;\n",
       "    }\n",
       "</style>\n",
       "<table border=\"1\" class=\"dataframe\">\n",
       "  <thead>\n",
       "    <tr style=\"text-align: right;\">\n",
       "      <th></th>\n",
       "      <th>age</th>\n",
       "      <th>sex</th>\n",
       "      <th>bmi</th>\n",
       "      <th>children</th>\n",
       "      <th>smoker</th>\n",
       "      <th>region</th>\n",
       "      <th>charges</th>\n",
       "    </tr>\n",
       "  </thead>\n",
       "  <tbody>\n",
       "    <tr>\n",
       "      <th>age</th>\n",
       "      <td>1.000000</td>\n",
       "      <td>0.020856</td>\n",
       "      <td>0.109272</td>\n",
       "      <td>0.042469</td>\n",
       "      <td>-0.025019</td>\n",
       "      <td>-0.002127</td>\n",
       "      <td>0.299008</td>\n",
       "    </tr>\n",
       "    <tr>\n",
       "      <th>sex</th>\n",
       "      <td>0.020856</td>\n",
       "      <td>1.000000</td>\n",
       "      <td>-0.046371</td>\n",
       "      <td>-0.017163</td>\n",
       "      <td>-0.076185</td>\n",
       "      <td>0.004588</td>\n",
       "      <td>-0.057292</td>\n",
       "    </tr>\n",
       "    <tr>\n",
       "      <th>bmi</th>\n",
       "      <td>0.109272</td>\n",
       "      <td>-0.046371</td>\n",
       "      <td>1.000000</td>\n",
       "      <td>0.012759</td>\n",
       "      <td>0.003750</td>\n",
       "      <td>-0.157566</td>\n",
       "      <td>0.198341</td>\n",
       "    </tr>\n",
       "    <tr>\n",
       "      <th>children</th>\n",
       "      <td>0.042469</td>\n",
       "      <td>-0.017163</td>\n",
       "      <td>0.012759</td>\n",
       "      <td>1.000000</td>\n",
       "      <td>0.007673</td>\n",
       "      <td>-0.016569</td>\n",
       "      <td>0.067998</td>\n",
       "    </tr>\n",
       "    <tr>\n",
       "      <th>smoker</th>\n",
       "      <td>-0.025019</td>\n",
       "      <td>-0.076185</td>\n",
       "      <td>0.003750</td>\n",
       "      <td>0.007673</td>\n",
       "      <td>1.000000</td>\n",
       "      <td>0.002181</td>\n",
       "      <td>0.787251</td>\n",
       "    </tr>\n",
       "    <tr>\n",
       "      <th>region</th>\n",
       "      <td>-0.002127</td>\n",
       "      <td>0.004588</td>\n",
       "      <td>-0.157566</td>\n",
       "      <td>-0.016569</td>\n",
       "      <td>0.002181</td>\n",
       "      <td>1.000000</td>\n",
       "      <td>0.006208</td>\n",
       "    </tr>\n",
       "    <tr>\n",
       "      <th>charges</th>\n",
       "      <td>0.299008</td>\n",
       "      <td>-0.057292</td>\n",
       "      <td>0.198341</td>\n",
       "      <td>0.067998</td>\n",
       "      <td>0.787251</td>\n",
       "      <td>0.006208</td>\n",
       "      <td>1.000000</td>\n",
       "    </tr>\n",
       "  </tbody>\n",
       "</table>\n",
       "</div>"
      ],
      "text/plain": [
       "               age       sex       bmi  children    smoker    region   charges\n",
       "age       1.000000  0.020856  0.109272  0.042469 -0.025019 -0.002127  0.299008\n",
       "sex       0.020856  1.000000 -0.046371 -0.017163 -0.076185  0.004588 -0.057292\n",
       "bmi       0.109272 -0.046371  1.000000  0.012759  0.003750 -0.157566  0.198341\n",
       "children  0.042469 -0.017163  0.012759  1.000000  0.007673 -0.016569  0.067998\n",
       "smoker   -0.025019 -0.076185  0.003750  0.007673  1.000000  0.002181  0.787251\n",
       "region   -0.002127  0.004588 -0.157566 -0.016569  0.002181  1.000000  0.006208\n",
       "charges   0.299008 -0.057292  0.198341  0.067998  0.787251  0.006208  1.000000"
      ]
     },
     "execution_count": 12,
     "metadata": {},
     "output_type": "execute_result"
    }
   ],
   "source": [
    "insurance.corr()"
   ]
  },
  {
   "cell_type": "code",
   "execution_count": 13,
   "id": "89356bd8",
   "metadata": {
    "execution": {
     "iopub.execute_input": "2023-08-11T09:24:16.187824Z",
     "iopub.status.busy": "2023-08-11T09:24:16.186771Z",
     "iopub.status.idle": "2023-08-11T09:24:16.720792Z",
     "shell.execute_reply": "2023-08-11T09:24:16.719587Z"
    },
    "papermill": {
     "duration": 0.554713,
     "end_time": "2023-08-11T09:24:16.723154",
     "exception": false,
     "start_time": "2023-08-11T09:24:16.168441",
     "status": "completed"
    },
    "tags": []
   },
   "outputs": [
    {
     "data": {
      "image/png": "[encoded data removed]",
      "text/plain": [
       "<Figure size 640x480 with 2 Axes>"
      ]
     },
     "metadata": {},
     "output_type": "display_data"
    }
   ],
   "source": [
    "# Let's see the correlation between different variables.\n",
    "sns.heatmap(insurance.corr(), cmap=\"YlGnBu\", annot = True)\n",
    "plt.show()"
   ]
  },
  {
   "cell_type": "markdown",
   "id": "45dc6613",
   "metadata": {
    "papermill": {
     "duration": 0.018892,
     "end_time": "2023-08-11T09:24:16.761092",
     "exception": false,
     "start_time": "2023-08-11T09:24:16.7422",
     "status": "completed"
    },
    "tags": []
   },
   "source": [
    "<h3>As is visible from the pairplot and the heatmap, the variable TV seems to be most correlated with Sales. So let's go ahead and perform simple linear regression using TV as our feature variable</h3>"
   ]
  },
  {
   "cell_type": "markdown",
   "id": "283dad2b",
   "metadata": {
    "papermill": {
     "duration": 0.017853,
     "end_time": "2023-08-11T09:24:16.797119",
     "exception": false,
     "start_time": "2023-08-11T09:24:16.779266",
     "status": "completed"
    },
    "tags": []
   },
   "source": [
    "<h1 style=\"border:3px solid blue; padding: 15px;color:white;margin:10;font-size:200%;text-align:center;display:fill;border-radius:10px;overflow:hidden; color:blue;font-weight:bold; font-size:45px;\">Model Building</h1>\n",
    "<h3 style = \"color:red;\">Performing Simple Linear Regression</h3>\n",
    "<ul style = \"color:blue; font-size:20px;\">\n",
    "    <li>Equation of linear regression</li>\n",
    "\n",
    "<li>y=c+m1x1+m2x2+...+mnxn</li>\n",
    "\n",
    "<li>y is the response</li>\n",
    "\n",
    "<li>c is the intercept</li>\n",
    "\n",
    "<li>m1 is the coefficient for the first feature</li>\n",
    "\n",
    "<li>mn is the coefficient for the nth feature</li>\n",
    "\n",
    "<li>In our case:</li>\n",
    "\n",
    "<li>y=c+m1×TV</li>\n",
    "\n",
    "<li>The m values are called the model coefficients or model parameters</li>\n",
    "</ul>\n",
    "<h2 style = \"color:red;\">Assigning Features & Labels </h2>"
   ]
  },
  {
   "cell_type": "markdown",
   "id": "e696d56c",
   "metadata": {
    "papermill": {
     "duration": 0.018107,
     "end_time": "2023-08-11T09:24:16.833324",
     "exception": false,
     "start_time": "2023-08-11T09:24:16.815217",
     "status": "completed"
    },
    "tags": []
   },
   "source": [
    "# Using 1 Variable"
   ]
  },
  {
   "cell_type": "code",
   "execution_count": 14,
   "id": "f27ef3d9",
   "metadata": {
    "execution": {
     "iopub.execute_input": "2023-08-11T09:24:16.872163Z",
     "iopub.status.busy": "2023-08-11T09:24:16.87154Z",
     "iopub.status.idle": "2023-08-11T09:24:16.876549Z",
     "shell.execute_reply": "2023-08-11T09:24:16.875721Z"
    },
    "papermill": {
     "duration": 0.026834,
     "end_time": "2023-08-11T09:24:16.878511",
     "exception": false,
     "start_time": "2023-08-11T09:24:16.851677",
     "status": "completed"
    },
    "tags": []
   },
   "outputs": [],
   "source": [
    "X = insurance.iloc[:, :1]\n",
    "y = insurance.iloc[:, -1]"
   ]
  },
  {
   "cell_type": "markdown",
   "id": "8fdd4530",
   "metadata": {
    "papermill": {
     "duration": 0.017481,
     "end_time": "2023-08-11T09:24:16.91374",
     "exception": false,
     "start_time": "2023-08-11T09:24:16.896259",
     "status": "completed"
    },
    "tags": []
   },
   "source": [
    "<h2 style = \"color:red;\">Train-Test Split<h2>\n",
    "    <p style = \"color:blue; font-size:20px;\"> You now need to split our variable into training and testing sets. You'll perform this by importing train_test_split from the sklearn.model_selection library. It is usually a good practice to keep 70% of the data in your train dataset and the rest 30% in your test dataset</p>"
   ]
  },
  {
   "cell_type": "code",
   "execution_count": 15,
   "id": "6bd3d5d2",
   "metadata": {
    "execution": {
     "iopub.execute_input": "2023-08-11T09:24:16.95222Z",
     "iopub.status.busy": "2023-08-11T09:24:16.951651Z",
     "iopub.status.idle": "2023-08-11T09:24:16.957095Z",
     "shell.execute_reply": "2023-08-11T09:24:16.956361Z"
    },
    "papermill": {
     "duration": 0.027562,
     "end_time": "2023-08-11T09:24:16.959031",
     "exception": false,
     "start_time": "2023-08-11T09:24:16.931469",
     "status": "completed"
    },
    "tags": []
   },
   "outputs": [],
   "source": [
    "X_train, X_test, y_train, y_test = \\\n",
    "train_test_split(X, y, train_size = 0.7, test_size = 0.3, random_state = 100)"
   ]
  },
  {
   "cell_type": "code",
   "execution_count": 16,
   "id": "bdaf3249",
   "metadata": {
    "execution": {
     "iopub.execute_input": "2023-08-11T09:24:16.996873Z",
     "iopub.status.busy": "2023-08-11T09:24:16.996262Z",
     "iopub.status.idle": "2023-08-11T09:24:17.003689Z",
     "shell.execute_reply": "2023-08-11T09:24:17.002963Z"
    },
    "papermill": {
     "duration": 0.028628,
     "end_time": "2023-08-11T09:24:17.005586",
     "exception": false,
     "start_time": "2023-08-11T09:24:16.976958",
     "status": "completed"
    },
    "tags": []
   },
   "outputs": [
    {
     "data": {
      "text/html": [
       "<div>\n",
       "<style scoped>\n",
       "    .dataframe tbody tr th:only-of-type {\n",
       "        vertical-align: middle;\n",
       "    }\n",
       "\n",
       "    .dataframe tbody tr th {\n",
       "        vertical-align: top;\n",
       "    }\n",
       "\n",
       "    .dataframe thead th {\n",
       "        text-align: right;\n",
       "    }\n",
       "</style>\n",
       "<table border=\"1\" class=\"dataframe\">\n",
       "  <thead>\n",
       "    <tr style=\"text-align: right;\">\n",
       "      <th></th>\n",
       "      <th>age</th>\n",
       "    </tr>\n",
       "  </thead>\n",
       "  <tbody>\n",
       "    <tr>\n",
       "      <th>966</th>\n",
       "      <td>51</td>\n",
       "    </tr>\n",
       "    <tr>\n",
       "      <th>522</th>\n",
       "      <td>51</td>\n",
       "    </tr>\n",
       "    <tr>\n",
       "      <th>155</th>\n",
       "      <td>44</td>\n",
       "    </tr>\n",
       "    <tr>\n",
       "      <th>671</th>\n",
       "      <td>29</td>\n",
       "    </tr>\n",
       "    <tr>\n",
       "      <th>1173</th>\n",
       "      <td>38</td>\n",
       "    </tr>\n",
       "  </tbody>\n",
       "</table>\n",
       "</div>"
      ],
      "text/plain": [
       "      age\n",
       "966    51\n",
       "522    51\n",
       "155    44\n",
       "671    29\n",
       "1173   38"
      ]
     },
     "execution_count": 16,
     "metadata": {},
     "output_type": "execute_result"
    }
   ],
   "source": [
    "X_train.head()"
   ]
  },
  {
   "cell_type": "code",
   "execution_count": 17,
   "id": "ae03c305",
   "metadata": {
    "execution": {
     "iopub.execute_input": "2023-08-11T09:24:17.044429Z",
     "iopub.status.busy": "2023-08-11T09:24:17.04401Z",
     "iopub.status.idle": "2023-08-11T09:24:17.051933Z",
     "shell.execute_reply": "2023-08-11T09:24:17.05082Z"
    },
    "papermill": {
     "duration": 0.029587,
     "end_time": "2023-08-11T09:24:17.053963",
     "exception": false,
     "start_time": "2023-08-11T09:24:17.024376",
     "status": "completed"
    },
    "tags": []
   },
   "outputs": [
    {
     "data": {
      "text/plain": [
       "966     23967.38305\n",
       "522      9866.30485\n",
       "155      6948.70080\n",
       "671      3943.59540\n",
       "1173     6457.84340\n",
       "Name: charges, dtype: float64"
      ]
     },
     "execution_count": 17,
     "metadata": {},
     "output_type": "execute_result"
    }
   ],
   "source": [
    "y_train.head()"
   ]
  },
  {
   "cell_type": "code",
   "execution_count": 18,
   "id": "a6667d5e",
   "metadata": {
    "execution": {
     "iopub.execute_input": "2023-08-11T09:24:17.092242Z",
     "iopub.status.busy": "2023-08-11T09:24:17.091835Z",
     "iopub.status.idle": "2023-08-11T09:24:17.100452Z",
     "shell.execute_reply": "2023-08-11T09:24:17.09959Z"
    },
    "papermill": {
     "duration": 0.030298,
     "end_time": "2023-08-11T09:24:17.102388",
     "exception": false,
     "start_time": "2023-08-11T09:24:17.07209",
     "status": "completed"
    },
    "tags": []
   },
   "outputs": [
    {
     "data": {
      "text/html": [
       "<div>\n",
       "<style scoped>\n",
       "    .dataframe tbody tr th:only-of-type {\n",
       "        vertical-align: middle;\n",
       "    }\n",
       "\n",
       "    .dataframe tbody tr th {\n",
       "        vertical-align: top;\n",
       "    }\n",
       "\n",
       "    .dataframe thead th {\n",
       "        text-align: right;\n",
       "    }\n",
       "</style>\n",
       "<table border=\"1\" class=\"dataframe\">\n",
       "  <thead>\n",
       "    <tr style=\"text-align: right;\">\n",
       "      <th></th>\n",
       "      <th>age</th>\n",
       "    </tr>\n",
       "  </thead>\n",
       "  <tbody>\n",
       "    <tr>\n",
       "      <th>12</th>\n",
       "      <td>23</td>\n",
       "    </tr>\n",
       "    <tr>\n",
       "      <th>306</th>\n",
       "      <td>28</td>\n",
       "    </tr>\n",
       "    <tr>\n",
       "      <th>318</th>\n",
       "      <td>44</td>\n",
       "    </tr>\n",
       "    <tr>\n",
       "      <th>815</th>\n",
       "      <td>20</td>\n",
       "    </tr>\n",
       "    <tr>\n",
       "      <th>157</th>\n",
       "      <td>18</td>\n",
       "    </tr>\n",
       "  </tbody>\n",
       "</table>\n",
       "</div>"
      ],
      "text/plain": [
       "     age\n",
       "12    23\n",
       "306   28\n",
       "318   44\n",
       "815   20\n",
       "157   18"
      ]
     },
     "execution_count": 18,
     "metadata": {},
     "output_type": "execute_result"
    }
   ],
   "source": [
    "X_test.head()"
   ]
  },
  {
   "cell_type": "code",
   "execution_count": 19,
   "id": "d217a004",
   "metadata": {
    "execution": {
     "iopub.execute_input": "2023-08-11T09:24:17.140882Z",
     "iopub.status.busy": "2023-08-11T09:24:17.140506Z",
     "iopub.status.idle": "2023-08-11T09:24:17.148338Z",
     "shell.execute_reply": "2023-08-11T09:24:17.147216Z"
    },
    "papermill": {
     "duration": 0.029734,
     "end_time": "2023-08-11T09:24:17.150447",
     "exception": false,
     "start_time": "2023-08-11T09:24:17.120713",
     "status": "completed"
    },
    "tags": []
   },
   "outputs": [
    {
     "data": {
      "text/plain": [
       "12      1826.84300\n",
       "306    20177.67113\n",
       "318     7421.19455\n",
       "815     1877.92940\n",
       "157    15518.18025\n",
       "Name: charges, dtype: float64"
      ]
     },
     "execution_count": 19,
     "metadata": {},
     "output_type": "execute_result"
    }
   ],
   "source": [
    "y_test.head()\n"
   ]
  },
  {
   "cell_type": "markdown",
   "id": "02113514",
   "metadata": {
    "papermill": {
     "duration": 0.018783,
     "end_time": "2023-08-11T09:24:17.187843",
     "exception": false,
     "start_time": "2023-08-11T09:24:17.16906",
     "status": "completed"
    },
    "tags": []
   },
   "source": [
    "<h2 style = \"color:red;\">Building a Linear Model<h2>\n",
    "<h4>Import Linear Regression Model and create an object</h4>"
   ]
  },
  {
   "cell_type": "code",
   "execution_count": 20,
   "id": "39e901bc",
   "metadata": {
    "execution": {
     "iopub.execute_input": "2023-08-11T09:24:17.227389Z",
     "iopub.status.busy": "2023-08-11T09:24:17.227002Z",
     "iopub.status.idle": "2023-08-11T09:24:17.23146Z",
     "shell.execute_reply": "2023-08-11T09:24:17.230475Z"
    },
    "papermill": {
     "duration": 0.027054,
     "end_time": "2023-08-11T09:24:17.233485",
     "exception": false,
     "start_time": "2023-08-11T09:24:17.206431",
     "status": "completed"
    },
    "tags": []
   },
   "outputs": [],
   "source": [
    "lreg = LinearRegression()"
   ]
  },
  {
   "cell_type": "markdown",
   "id": "6053bf1b",
   "metadata": {
    "papermill": {
     "duration": 0.0185,
     "end_time": "2023-08-11T09:24:17.270753",
     "exception": false,
     "start_time": "2023-08-11T09:24:17.252253",
     "status": "completed"
    },
    "tags": []
   },
   "source": [
    "<h2 style = \"color:red;\">Fitting the model<h2>"
   ]
  },
  {
   "cell_type": "code",
   "execution_count": 21,
   "id": "2cf28761",
   "metadata": {
    "execution": {
     "iopub.execute_input": "2023-08-11T09:24:17.309591Z",
     "iopub.status.busy": "2023-08-11T09:24:17.309196Z",
     "iopub.status.idle": "2023-08-11T09:24:17.336405Z",
     "shell.execute_reply": "2023-08-11T09:24:17.335204Z"
    },
    "papermill": {
     "duration": 0.049307,
     "end_time": "2023-08-11T09:24:17.338632",
     "exception": false,
     "start_time": "2023-08-11T09:24:17.289325",
     "status": "completed"
    },
    "tags": []
   },
   "outputs": [
    {
     "data": {
      "text/html": [
       "<style>#sk-container-id-1 {color: black;background-color: white;}#sk-container-id-1 pre{padding: 0;}#sk-container-id-1 div.sk-toggleable {background-color: white;}#sk-container-id-1 label.sk-toggleable__label {cursor: pointer;display: block;width: 100%;margin-bottom: 0;padding: 0.3em;box-sizing: border-box;text-align: center;}#sk-container-id-1 label.sk-toggleable__label-arrow:before {content: \"▸\";float: left;margin-right: 0.25em;color: #696969;}#sk-container-id-1 label.sk-toggleable__label-arrow:hover:before {color: black;}#sk-container-id-1 div.sk-estimator:hover label.sk-toggleable__label-arrow:before {color: black;}#sk-container-id-1 div.sk-toggleable__content {max-height: 0;max-width: 0;overflow: hidden;text-align: left;background-color: #f0f8ff;}#sk-container-id-1 div.sk-toggleable__content pre {margin: 0.2em;color: black;border-radius: 0.25em;background-color: #f0f8ff;}#sk-container-id-1 input.sk-toggleable__control:checked~div.sk-toggleable__content {max-height: 200px;max-width: 100%;overflow: auto;}#sk-container-id-1 input.sk-toggleable__control:checked~label.sk-toggleable__label-arrow:before {content: \"▾\";}#sk-container-id-1 div.sk-estimator input.sk-toggleable__control:checked~label.sk-toggleable__label {background-color: #d4ebff;}#sk-container-id-1 div.sk-label input.sk-toggleable__control:checked~label.sk-toggleable__label {background-color: #d4ebff;}#sk-container-id-1 input.sk-hidden--visually {border: 0;clip: rect(1px 1px 1px 1px);clip: rect(1px, 1px, 1px, 1px);height: 1px;margin: -1px;overflow: hidden;padding: 0;position: absolute;width: 1px;}#sk-container-id-1 div.sk-estimator {font-family: monospace;background-color: #f0f8ff;border: 1px dotted black;border-radius: 0.25em;box-sizing: border-box;margin-bottom: 0.5em;}#sk-container-id-1 div.sk-estimator:hover {background-color: #d4ebff;}#sk-container-id-1 div.sk-parallel-item::after {content: \"\";width: 100%;border-bottom: 1px solid gray;flex-grow: 1;}#sk-container-id-1 div.sk-label:hover label.sk-toggleable__label {background-color: #d4ebff;}#sk-container-id-1 div.sk-serial::before {content: \"\";position: absolute;border-left: 1px solid gray;box-sizing: border-box;top: 0;bottom: 0;left: 50%;z-index: 0;}#sk-container-id-1 div.sk-serial {display: flex;flex-direction: column;align-items: center;background-color: white;padding-right: 0.2em;padding-left: 0.2em;position: relative;}#sk-container-id-1 div.sk-item {position: relative;z-index: 1;}#sk-container-id-1 div.sk-parallel {display: flex;align-items: stretch;justify-content: center;background-color: white;position: relative;}#sk-container-id-1 div.sk-item::before, #sk-container-id-1 div.sk-parallel-item::before {content: \"\";position: absolute;border-left: 1px solid gray;box-sizing: border-box;top: 0;bottom: 0;left: 50%;z-index: -1;}#sk-container-id-1 div.sk-parallel-item {display: flex;flex-direction: column;z-index: 1;position: relative;background-color: white;}#sk-container-id-1 div.sk-parallel-item:first-child::after {align-self: flex-end;width: 50%;}#sk-container-id-1 div.sk-parallel-item:last-child::after {align-self: flex-start;width: 50%;}#sk-container-id-1 div.sk-parallel-item:only-child::after {width: 0;}#sk-container-id-1 div.sk-dashed-wrapped {border: 1px dashed gray;margin: 0 0.4em 0.5em 0.4em;box-sizing: border-box;padding-bottom: 0.4em;background-color: white;}#sk-container-id-1 div.sk-label label {font-family: monospace;font-weight: bold;display: inline-block;line-height: 1.2em;}#sk-container-id-1 div.sk-label-container {text-align: center;}#sk-container-id-1 div.sk-container {/* jupyter's `normalize.less` sets `[hidden] { display: none; }` but bootstrap.min.css set `[hidden] { display: none !important; }` so we also need the `!important` here to be able to override the default hidden behavior on the sphinx rendered scikit-learn.org. See: https://github.com/scikit-learn/scikit-learn/issues/21755 */display: inline-block !important;position: relative;}#sk-container-id-1 div.sk-text-repr-fallback {display: none;}</style><div id=\"sk-container-id-1\" class=\"sk-top-container\"><div class=\"sk-text-repr-fallback\"><pre>LinearRegression()</pre><b>In a Jupyter environment, please rerun this cell to show the HTML representation or trust the notebook. <br />On GitHub, the HTML representation is unable to render, please try loading this page with nbviewer.org.</b></div><div class=\"sk-container\" hidden><div class=\"sk-item\"><div class=\"sk-estimator sk-toggleable\"><input class=\"sk-toggleable__control sk-hidden--visually\" id=\"sk-estimator-id-1\" type=\"checkbox\" checked><label for=\"sk-estimator-id-1\" class=\"sk-toggleable__label sk-toggleable__label-arrow\">LinearRegression</label><div class=\"sk-toggleable__content\"><pre>LinearRegression()</pre></div></div></div></div></div>"
      ],
      "text/plain": [
       "LinearRegression()"
      ]
     },
     "execution_count": 21,
     "metadata": {},
     "output_type": "execute_result"
    }
   ],
   "source": [
    "lreg.fit(X_train, y_train)"
   ]
  },
  {
   "cell_type": "markdown",
   "id": "7ebb38c0",
   "metadata": {
    "papermill": {
     "duration": 0.018563,
     "end_time": "2023-08-11T09:24:17.376017",
     "exception": false,
     "start_time": "2023-08-11T09:24:17.357454",
     "status": "completed"
    },
    "tags": []
   },
   "source": [
    "<h2 style = \"color:red;\">Making Prediction<h2>"
   ]
  },
  {
   "cell_type": "code",
   "execution_count": 22,
   "id": "642979ef",
   "metadata": {
    "execution": {
     "iopub.execute_input": "2023-08-11T09:24:17.415986Z",
     "iopub.status.busy": "2023-08-11T09:24:17.415625Z",
     "iopub.status.idle": "2023-08-11T09:24:17.423154Z",
     "shell.execute_reply": "2023-08-11T09:24:17.422345Z"
    },
    "papermill": {
     "duration": 0.029705,
     "end_time": "2023-08-11T09:24:17.425067",
     "exception": false,
     "start_time": "2023-08-11T09:24:17.395362",
     "status": "completed"
    },
    "tags": []
   },
   "outputs": [],
   "source": [
    "predict_train = lreg.predict(X_train)\n",
    "predict_test = lreg.predict(X_test)"
   ]
  },
  {
   "cell_type": "markdown",
   "id": "e7d587ea",
   "metadata": {
    "papermill": {
     "duration": 0.019118,
     "end_time": "2023-08-11T09:24:17.462786",
     "exception": false,
     "start_time": "2023-08-11T09:24:17.443668",
     "status": "completed"
    },
    "tags": []
   },
   "source": [
    "<h2 style = \"color:red;\">Checking Our Model<h2>"
   ]
  },
  {
   "cell_type": "code",
   "execution_count": 23,
   "id": "0ae18e2e",
   "metadata": {
    "execution": {
     "iopub.execute_input": "2023-08-11T09:24:17.502515Z",
     "iopub.status.busy": "2023-08-11T09:24:17.502131Z",
     "iopub.status.idle": "2023-08-11T09:24:17.50891Z",
     "shell.execute_reply": "2023-08-11T09:24:17.507713Z"
    },
    "papermill": {
     "duration": 0.029348,
     "end_time": "2023-08-11T09:24:17.511122",
     "exception": false,
     "start_time": "2023-08-11T09:24:17.481774",
     "status": "completed"
    },
    "tags": []
   },
   "outputs": [
    {
     "data": {
      "text/plain": [
       "array([267.74014088])"
      ]
     },
     "execution_count": 23,
     "metadata": {},
     "output_type": "execute_result"
    }
   ],
   "source": [
    "lreg.coef_"
   ]
  },
  {
   "cell_type": "code",
   "execution_count": 24,
   "id": "e7d05d45",
   "metadata": {
    "execution": {
     "iopub.execute_input": "2023-08-11T09:24:17.551178Z",
     "iopub.status.busy": "2023-08-11T09:24:17.55078Z",
     "iopub.status.idle": "2023-08-11T09:24:17.557352Z",
     "shell.execute_reply": "2023-08-11T09:24:17.556349Z"
    },
    "papermill": {
     "duration": 0.029325,
     "end_time": "2023-08-11T09:24:17.559434",
     "exception": false,
     "start_time": "2023-08-11T09:24:17.530109",
     "status": "completed"
    },
    "tags": []
   },
   "outputs": [
    {
     "data": {
      "text/plain": [
       "2707.051837092662"
      ]
     },
     "execution_count": 24,
     "metadata": {},
     "output_type": "execute_result"
    }
   ],
   "source": [
    "lreg.intercept_"
   ]
  },
  {
   "cell_type": "code",
   "execution_count": 25,
   "id": "04a4cbc2",
   "metadata": {
    "execution": {
     "iopub.execute_input": "2023-08-11T09:24:17.599432Z",
     "iopub.status.busy": "2023-08-11T09:24:17.599019Z",
     "iopub.status.idle": "2023-08-11T09:24:17.606389Z",
     "shell.execute_reply": "2023-08-11T09:24:17.605366Z"
    },
    "papermill": {
     "duration": 0.029854,
     "end_time": "2023-08-11T09:24:17.608345",
     "exception": false,
     "start_time": "2023-08-11T09:24:17.578491",
     "status": "completed"
    },
    "tags": []
   },
   "outputs": [
    {
     "data": {
      "text/plain": [
       "132892358.42251574"
      ]
     },
     "execution_count": 25,
     "metadata": {},
     "output_type": "execute_result"
    }
   ],
   "source": [
    "#MSE for training set\n",
    "mean_squared_error(y_train, predict_train)"
   ]
  },
  {
   "cell_type": "code",
   "execution_count": 26,
   "id": "7ee39a0e",
   "metadata": {
    "execution": {
     "iopub.execute_input": "2023-08-11T09:24:17.648864Z",
     "iopub.status.busy": "2023-08-11T09:24:17.648496Z",
     "iopub.status.idle": "2023-08-11T09:24:17.65541Z",
     "shell.execute_reply": "2023-08-11T09:24:17.654339Z"
    },
    "papermill": {
     "duration": 0.029785,
     "end_time": "2023-08-11T09:24:17.657373",
     "exception": false,
     "start_time": "2023-08-11T09:24:17.627588",
     "status": "completed"
    },
    "tags": []
   },
   "outputs": [
    {
     "data": {
      "text/plain": [
       "134798778.0695984"
      ]
     },
     "execution_count": 26,
     "metadata": {},
     "output_type": "execute_result"
    }
   ],
   "source": [
    "#MSE for testing set\n",
    "mean_squared_error(y_test, predict_test)"
   ]
  },
  {
   "cell_type": "code",
   "execution_count": 27,
   "id": "9014f1a4",
   "metadata": {
    "execution": {
     "iopub.execute_input": "2023-08-11T09:24:17.697508Z",
     "iopub.status.busy": "2023-08-11T09:24:17.696739Z",
     "iopub.status.idle": "2023-08-11T09:24:17.703378Z",
     "shell.execute_reply": "2023-08-11T09:24:17.702671Z"
    },
    "papermill": {
     "duration": 0.028892,
     "end_time": "2023-08-11T09:24:17.705192",
     "exception": false,
     "start_time": "2023-08-11T09:24:17.6763",
     "status": "completed"
    },
    "tags": []
   },
   "outputs": [
    {
     "data": {
      "text/plain": [
       "0.09650123594677995"
      ]
     },
     "execution_count": 27,
     "metadata": {},
     "output_type": "execute_result"
    }
   ],
   "source": [
    "#r squared for training set\n",
    "r2_score(y_train, predict_train)"
   ]
  },
  {
   "cell_type": "code",
   "execution_count": 28,
   "id": "c2ba3968",
   "metadata": {
    "execution": {
     "iopub.execute_input": "2023-08-11T09:24:17.745111Z",
     "iopub.status.busy": "2023-08-11T09:24:17.744707Z",
     "iopub.status.idle": "2023-08-11T09:24:17.751267Z",
     "shell.execute_reply": "2023-08-11T09:24:17.750482Z"
    },
    "papermill": {
     "duration": 0.029267,
     "end_time": "2023-08-11T09:24:17.753457",
     "exception": false,
     "start_time": "2023-08-11T09:24:17.72419",
     "status": "completed"
    },
    "tags": []
   },
   "outputs": [
    {
     "data": {
      "text/plain": [
       "0.07161898944046363"
      ]
     },
     "execution_count": 28,
     "metadata": {},
     "output_type": "execute_result"
    }
   ],
   "source": [
    "#r squared for training set\n",
    "r2_score(y_test, predict_test)"
   ]
  },
  {
   "cell_type": "markdown",
   "id": "2c937029",
   "metadata": {
    "papermill": {
     "duration": 0.019106,
     "end_time": "2023-08-11T09:24:17.792383",
     "exception": false,
     "start_time": "2023-08-11T09:24:17.773277",
     "status": "completed"
    },
    "tags": []
   },
   "source": [
    "<h3>R**2 is basically how perfectly your line is fit</h3>\n",
    "\n",
    "0 is worst fit\n",
    "1 is good fit"
   ]
  },
  {
   "cell_type": "markdown",
   "id": "0a0d29cd",
   "metadata": {
    "papermill": {
     "duration": 0.01899,
     "end_time": "2023-08-11T09:24:17.830782",
     "exception": false,
     "start_time": "2023-08-11T09:24:17.811792",
     "status": "completed"
    },
    "tags": []
   },
   "source": [
    "<h2 style = \"color:red;\">Visualizing Our Line<h2>"
   ]
  },
  {
   "cell_type": "code",
   "execution_count": 29,
   "id": "5147583d",
   "metadata": {
    "execution": {
     "iopub.execute_input": "2023-08-11T09:24:17.872177Z",
     "iopub.status.busy": "2023-08-11T09:24:17.871349Z",
     "iopub.status.idle": "2023-08-11T09:24:18.135129Z",
     "shell.execute_reply": "2023-08-11T09:24:18.133955Z"
    },
    "papermill": {
     "duration": 0.288066,
     "end_time": "2023-08-11T09:24:18.138122",
     "exception": false,
     "start_time": "2023-08-11T09:24:17.850056",
     "status": "completed"
    },
    "tags": []
   },
   "outputs": [
    {
     "data": {
      "image/png": "[encoded data removed]",
      "text/plain": [
       "<Figure size 1700x600 with 1 Axes>"
      ]
     },
     "metadata": {},
     "output_type": "display_data"
    }
   ],
   "source": [
    "plt.figure(figsize=(17,6))\n",
    "plt.scatter(X_train, y_train)\n",
    "plt.plot(X_train, predict_train, 'r')\n",
    "plt.show()"
   ]
  },
  {
   "cell_type": "markdown",
   "id": "5f61b92b",
   "metadata": {
    "papermill": {
     "duration": 0.020358,
     "end_time": "2023-08-11T09:24:18.180064",
     "exception": false,
     "start_time": "2023-08-11T09:24:18.159706",
     "status": "completed"
    },
    "tags": []
   },
   "source": [
    "# Using 2 Variables"
   ]
  },
  {
   "cell_type": "code",
   "execution_count": 30,
   "id": "78cda166",
   "metadata": {
    "execution": {
     "iopub.execute_input": "2023-08-11T09:24:18.223315Z",
     "iopub.status.busy": "2023-08-11T09:24:18.22293Z",
     "iopub.status.idle": "2023-08-11T09:24:18.228412Z",
     "shell.execute_reply": "2023-08-11T09:24:18.227319Z"
    },
    "papermill": {
     "duration": 0.030189,
     "end_time": "2023-08-11T09:24:18.230785",
     "exception": false,
     "start_time": "2023-08-11T09:24:18.200596",
     "status": "completed"
    },
    "tags": []
   },
   "outputs": [],
   "source": [
    "X = insurance.iloc[:, :2]\n",
    "y = insurance.iloc[:, -1]"
   ]
  },
  {
   "cell_type": "code",
   "execution_count": 31,
   "id": "b7bd2fd2",
   "metadata": {
    "execution": {
     "iopub.execute_input": "2023-08-11T09:24:18.273052Z",
     "iopub.status.busy": "2023-08-11T09:24:18.272671Z",
     "iopub.status.idle": "2023-08-11T09:24:18.279876Z",
     "shell.execute_reply": "2023-08-11T09:24:18.278739Z"
    },
    "papermill": {
     "duration": 0.031183,
     "end_time": "2023-08-11T09:24:18.282147",
     "exception": false,
     "start_time": "2023-08-11T09:24:18.250964",
     "status": "completed"
    },
    "tags": []
   },
   "outputs": [],
   "source": [
    "X_train, X_test, y_train, y_test = \\\n",
    "train_test_split(X, y, train_size = 0.7, test_size = 0.3, random_state = 100)"
   ]
  },
  {
   "cell_type": "code",
   "execution_count": 32,
   "id": "2b744896",
   "metadata": {
    "execution": {
     "iopub.execute_input": "2023-08-11T09:24:18.324463Z",
     "iopub.status.busy": "2023-08-11T09:24:18.324069Z",
     "iopub.status.idle": "2023-08-11T09:24:18.333138Z",
     "shell.execute_reply": "2023-08-11T09:24:18.332054Z"
    },
    "papermill": {
     "duration": 0.032931,
     "end_time": "2023-08-11T09:24:18.335292",
     "exception": false,
     "start_time": "2023-08-11T09:24:18.302361",
     "status": "completed"
    },
    "tags": []
   },
   "outputs": [
    {
     "data": {
      "text/html": [
       "<div>\n",
       "<style scoped>\n",
       "    .dataframe tbody tr th:only-of-type {\n",
       "        vertical-align: middle;\n",
       "    }\n",
       "\n",
       "    .dataframe tbody tr th {\n",
       "        vertical-align: top;\n",
       "    }\n",
       "\n",
       "    .dataframe thead th {\n",
       "        text-align: right;\n",
       "    }\n",
       "</style>\n",
       "<table border=\"1\" class=\"dataframe\">\n",
       "  <thead>\n",
       "    <tr style=\"text-align: right;\">\n",
       "      <th></th>\n",
       "      <th>age</th>\n",
       "      <th>sex</th>\n",
       "    </tr>\n",
       "  </thead>\n",
       "  <tbody>\n",
       "    <tr>\n",
       "      <th>966</th>\n",
       "      <td>51</td>\n",
       "      <td>0</td>\n",
       "    </tr>\n",
       "    <tr>\n",
       "      <th>522</th>\n",
       "      <td>51</td>\n",
       "      <td>1</td>\n",
       "    </tr>\n",
       "    <tr>\n",
       "      <th>155</th>\n",
       "      <td>44</td>\n",
       "      <td>0</td>\n",
       "    </tr>\n",
       "    <tr>\n",
       "      <th>671</th>\n",
       "      <td>29</td>\n",
       "      <td>1</td>\n",
       "    </tr>\n",
       "    <tr>\n",
       "      <th>1173</th>\n",
       "      <td>38</td>\n",
       "      <td>0</td>\n",
       "    </tr>\n",
       "  </tbody>\n",
       "</table>\n",
       "</div>"
      ],
      "text/plain": [
       "      age  sex\n",
       "966    51    0\n",
       "522    51    1\n",
       "155    44    0\n",
       "671    29    1\n",
       "1173   38    0"
      ]
     },
     "execution_count": 32,
     "metadata": {},
     "output_type": "execute_result"
    }
   ],
   "source": [
    "X_train.head()"
   ]
  },
  {
   "cell_type": "code",
   "execution_count": 33,
   "id": "5c9b9f54",
   "metadata": {
    "execution": {
     "iopub.execute_input": "2023-08-11T09:24:18.377768Z",
     "iopub.status.busy": "2023-08-11T09:24:18.377268Z",
     "iopub.status.idle": "2023-08-11T09:24:18.386145Z",
     "shell.execute_reply": "2023-08-11T09:24:18.384987Z"
    },
    "papermill": {
     "duration": 0.033013,
     "end_time": "2023-08-11T09:24:18.388631",
     "exception": false,
     "start_time": "2023-08-11T09:24:18.355618",
     "status": "completed"
    },
    "tags": []
   },
   "outputs": [
    {
     "data": {
      "text/plain": [
       "966     23967.38305\n",
       "522      9866.30485\n",
       "155      6948.70080\n",
       "671      3943.59540\n",
       "1173     6457.84340\n",
       "Name: charges, dtype: float64"
      ]
     },
     "execution_count": 33,
     "metadata": {},
     "output_type": "execute_result"
    }
   ],
   "source": [
    "y_train.head()"
   ]
  },
  {
   "cell_type": "code",
   "execution_count": 34,
   "id": "6c4cb2e6",
   "metadata": {
    "execution": {
     "iopub.execute_input": "2023-08-11T09:24:18.431797Z",
     "iopub.status.busy": "2023-08-11T09:24:18.431383Z",
     "iopub.status.idle": "2023-08-11T09:24:18.440908Z",
     "shell.execute_reply": "2023-08-11T09:24:18.440067Z"
    },
    "papermill": {
     "duration": 0.033608,
     "end_time": "2023-08-11T09:24:18.442851",
     "exception": false,
     "start_time": "2023-08-11T09:24:18.409243",
     "status": "completed"
    },
    "tags": []
   },
   "outputs": [
    {
     "data": {
      "text/html": [
       "<div>\n",
       "<style scoped>\n",
       "    .dataframe tbody tr th:only-of-type {\n",
       "        vertical-align: middle;\n",
       "    }\n",
       "\n",
       "    .dataframe tbody tr th {\n",
       "        vertical-align: top;\n",
       "    }\n",
       "\n",
       "    .dataframe thead th {\n",
       "        text-align: right;\n",
       "    }\n",
       "</style>\n",
       "<table border=\"1\" class=\"dataframe\">\n",
       "  <thead>\n",
       "    <tr style=\"text-align: right;\">\n",
       "      <th></th>\n",
       "      <th>age</th>\n",
       "      <th>sex</th>\n",
       "    </tr>\n",
       "  </thead>\n",
       "  <tbody>\n",
       "    <tr>\n",
       "      <th>12</th>\n",
       "      <td>23</td>\n",
       "      <td>0</td>\n",
       "    </tr>\n",
       "    <tr>\n",
       "      <th>306</th>\n",
       "      <td>28</td>\n",
       "      <td>1</td>\n",
       "    </tr>\n",
       "    <tr>\n",
       "      <th>318</th>\n",
       "      <td>44</td>\n",
       "      <td>1</td>\n",
       "    </tr>\n",
       "    <tr>\n",
       "      <th>815</th>\n",
       "      <td>20</td>\n",
       "      <td>1</td>\n",
       "    </tr>\n",
       "    <tr>\n",
       "      <th>157</th>\n",
       "      <td>18</td>\n",
       "      <td>0</td>\n",
       "    </tr>\n",
       "  </tbody>\n",
       "</table>\n",
       "</div>"
      ],
      "text/plain": [
       "     age  sex\n",
       "12    23    0\n",
       "306   28    1\n",
       "318   44    1\n",
       "815   20    1\n",
       "157   18    0"
      ]
     },
     "execution_count": 34,
     "metadata": {},
     "output_type": "execute_result"
    }
   ],
   "source": [
    "X_test.head()"
   ]
  },
  {
   "cell_type": "code",
   "execution_count": 35,
   "id": "d986fe3f",
   "metadata": {
    "execution": {
     "iopub.execute_input": "2023-08-11T09:24:18.487846Z",
     "iopub.status.busy": "2023-08-11T09:24:18.487489Z",
     "iopub.status.idle": "2023-08-11T09:24:18.494238Z",
     "shell.execute_reply": "2023-08-11T09:24:18.493422Z"
    },
    "papermill": {
     "duration": 0.031688,
     "end_time": "2023-08-11T09:24:18.496136",
     "exception": false,
     "start_time": "2023-08-11T09:24:18.464448",
     "status": "completed"
    },
    "tags": []
   },
   "outputs": [
    {
     "data": {
      "text/plain": [
       "12      1826.84300\n",
       "306    20177.67113\n",
       "318     7421.19455\n",
       "815     1877.92940\n",
       "157    15518.18025\n",
       "Name: charges, dtype: float64"
      ]
     },
     "execution_count": 35,
     "metadata": {},
     "output_type": "execute_result"
    }
   ],
   "source": [
    "y_test.head()"
   ]
  },
  {
   "cell_type": "markdown",
   "id": "dddaa030",
   "metadata": {
    "papermill": {
     "duration": 0.020735,
     "end_time": "2023-08-11T09:24:18.537975",
     "exception": false,
     "start_time": "2023-08-11T09:24:18.51724",
     "status": "completed"
    },
    "tags": []
   },
   "source": [
    "<h2 style = \"color:red;\">Fitting the model<h2"
   ]
  },
  {
   "cell_type": "code",
   "execution_count": 36,
   "id": "76e868a4",
   "metadata": {
    "execution": {
     "iopub.execute_input": "2023-08-11T09:24:18.582417Z",
     "iopub.status.busy": "2023-08-11T09:24:18.582032Z",
     "iopub.status.idle": "2023-08-11T09:24:18.597893Z",
     "shell.execute_reply": "2023-08-11T09:24:18.59688Z"
    },
    "papermill": {
     "duration": 0.040698,
     "end_time": "2023-08-11T09:24:18.600142",
     "exception": false,
     "start_time": "2023-08-11T09:24:18.559444",
     "status": "completed"
    },
    "tags": []
   },
   "outputs": [
    {
     "data": {
      "text/html": [
       "<style>#sk-container-id-2 {color: black;background-color: white;}#sk-container-id-2 pre{padding: 0;}#sk-container-id-2 div.sk-toggleable {background-color: white;}#sk-container-id-2 label.sk-toggleable__label {cursor: pointer;display: block;width: 100%;margin-bottom: 0;padding: 0.3em;box-sizing: border-box;text-align: center;}#sk-container-id-2 label.sk-toggleable__label-arrow:before {content: \"▸\";float: left;margin-right: 0.25em;color: #696969;}#sk-container-id-2 label.sk-toggleable__label-arrow:hover:before {color: black;}#sk-container-id-2 div.sk-estimator:hover label.sk-toggleable__label-arrow:before {color: black;}#sk-container-id-2 div.sk-toggleable__content {max-height: 0;max-width: 0;overflow: hidden;text-align: left;background-color: #f0f8ff;}#sk-container-id-2 div.sk-toggleable__content pre {margin: 0.2em;color: black;border-radius: 0.25em;background-color: #f0f8ff;}#sk-container-id-2 input.sk-toggleable__control:checked~div.sk-toggleable__content {max-height: 200px;max-width: 100%;overflow: auto;}#sk-container-id-2 input.sk-toggleable__control:checked~label.sk-toggleable__label-arrow:before {content: \"▾\";}#sk-container-id-2 div.sk-estimator input.sk-toggleable__control:checked~label.sk-toggleable__label {background-color: #d4ebff;}#sk-container-id-2 div.sk-label input.sk-toggleable__control:checked~label.sk-toggleable__label {background-color: #d4ebff;}#sk-container-id-2 input.sk-hidden--visually {border: 0;clip: rect(1px 1px 1px 1px);clip: rect(1px, 1px, 1px, 1px);height: 1px;margin: -1px;overflow: hidden;padding: 0;position: absolute;width: 1px;}#sk-container-id-2 div.sk-estimator {font-family: monospace;background-color: #f0f8ff;border: 1px dotted black;border-radius: 0.25em;box-sizing: border-box;margin-bottom: 0.5em;}#sk-container-id-2 div.sk-estimator:hover {background-color: #d4ebff;}#sk-container-id-2 div.sk-parallel-item::after {content: \"\";width: 100%;border-bottom: 1px solid gray;flex-grow: 1;}#sk-container-id-2 div.sk-label:hover label.sk-toggleable__label {background-color: #d4ebff;}#sk-container-id-2 div.sk-serial::before {content: \"\";position: absolute;border-left: 1px solid gray;box-sizing: border-box;top: 0;bottom: 0;left: 50%;z-index: 0;}#sk-container-id-2 div.sk-serial {display: flex;flex-direction: column;align-items: center;background-color: white;padding-right: 0.2em;padding-left: 0.2em;position: relative;}#sk-container-id-2 div.sk-item {position: relative;z-index: 1;}#sk-container-id-2 div.sk-parallel {display: flex;align-items: stretch;justify-content: center;background-color: white;position: relative;}#sk-container-id-2 div.sk-item::before, #sk-container-id-2 div.sk-parallel-item::before {content: \"\";position: absolute;border-left: 1px solid gray;box-sizing: border-box;top: 0;bottom: 0;left: 50%;z-index: -1;}#sk-container-id-2 div.sk-parallel-item {display: flex;flex-direction: column;z-index: 1;position: relative;background-color: white;}#sk-container-id-2 div.sk-parallel-item:first-child::after {align-self: flex-end;width: 50%;}#sk-container-id-2 div.sk-parallel-item:last-child::after {align-self: flex-start;width: 50%;}#sk-container-id-2 div.sk-parallel-item:only-child::after {width: 0;}#sk-container-id-2 div.sk-dashed-wrapped {border: 1px dashed gray;margin: 0 0.4em 0.5em 0.4em;box-sizing: border-box;padding-bottom: 0.4em;background-color: white;}#sk-container-id-2 div.sk-label label {font-family: monospace;font-weight: bold;display: inline-block;line-height: 1.2em;}#sk-container-id-2 div.sk-label-container {text-align: center;}#sk-container-id-2 div.sk-container {/* jupyter's `normalize.less` sets `[hidden] { display: none; }` but bootstrap.min.css set `[hidden] { display: none !important; }` so we also need the `!important` here to be able to override the default hidden behavior on the sphinx rendered scikit-learn.org. See: https://github.com/scikit-learn/scikit-learn/issues/21755 */display: inline-block !important;position: relative;}#sk-container-id-2 div.sk-text-repr-fallback {display: none;}</style><div id=\"sk-container-id-2\" class=\"sk-top-container\"><div class=\"sk-text-repr-fallback\"><pre>LinearRegression()</pre><b>In a Jupyter environment, please rerun this cell to show the HTML representation or trust the notebook. <br />On GitHub, the HTML representation is unable to render, please try loading this page with nbviewer.org.</b></div><div class=\"sk-container\" hidden><div class=\"sk-item\"><div class=\"sk-estimator sk-toggleable\"><input class=\"sk-toggleable__control sk-hidden--visually\" id=\"sk-estimator-id-2\" type=\"checkbox\" checked><label for=\"sk-estimator-id-2\" class=\"sk-toggleable__label sk-toggleable__label-arrow\">LinearRegression</label><div class=\"sk-toggleable__content\"><pre>LinearRegression()</pre></div></div></div></div></div>"
      ],
      "text/plain": [
       "LinearRegression()"
      ]
     },
     "execution_count": 36,
     "metadata": {},
     "output_type": "execute_result"
    }
   ],
   "source": [
    "lreg.fit(X_train, y_train)"
   ]
  },
  {
   "cell_type": "markdown",
   "id": "d05096c4",
   "metadata": {
    "papermill": {
     "duration": 0.021029,
     "end_time": "2023-08-11T09:24:18.642545",
     "exception": false,
     "start_time": "2023-08-11T09:24:18.621516",
     "status": "completed"
    },
    "tags": []
   },
   "source": [
    "<h2 style = \"color:red;\">Making Prediction<h2>"
   ]
  },
  {
   "cell_type": "code",
   "execution_count": 37,
   "id": "4c9c7895",
   "metadata": {
    "execution": {
     "iopub.execute_input": "2023-08-11T09:24:18.68682Z",
     "iopub.status.busy": "2023-08-11T09:24:18.686423Z",
     "iopub.status.idle": "2023-08-11T09:24:18.693881Z",
     "shell.execute_reply": "2023-08-11T09:24:18.693117Z"
    },
    "papermill": {
     "duration": 0.031696,
     "end_time": "2023-08-11T09:24:18.695817",
     "exception": false,
     "start_time": "2023-08-11T09:24:18.664121",
     "status": "completed"
    },
    "tags": []
   },
   "outputs": [],
   "source": [
    "predict_train = lreg.predict(X_train)\n",
    "predict_test = lreg.predict(X_test)"
   ]
  },
  {
   "cell_type": "markdown",
   "id": "b8038625",
   "metadata": {
    "papermill": {
     "duration": 0.020695,
     "end_time": "2023-08-11T09:24:18.737461",
     "exception": false,
     "start_time": "2023-08-11T09:24:18.716766",
     "status": "completed"
    },
    "tags": []
   },
   "source": [
    "<h2 style = \"color:red;\">Checking Our Model"
   ]
  },
  {
   "cell_type": "code",
   "execution_count": 38,
   "id": "735c16a4",
   "metadata": {
    "execution": {
     "iopub.execute_input": "2023-08-11T09:24:18.782034Z",
     "iopub.status.busy": "2023-08-11T09:24:18.781202Z",
     "iopub.status.idle": "2023-08-11T09:24:18.788163Z",
     "shell.execute_reply": "2023-08-11T09:24:18.787094Z"
    },
    "papermill": {
     "duration": 0.03196,
     "end_time": "2023-08-11T09:24:18.790299",
     "exception": false,
     "start_time": "2023-08-11T09:24:18.758339",
     "status": "completed"
    },
    "tags": []
   },
   "outputs": [
    {
     "data": {
      "text/plain": [
       "array([  267.43987976, -1368.90870153])"
      ]
     },
     "execution_count": 38,
     "metadata": {},
     "output_type": "execute_result"
    }
   ],
   "source": [
    "lreg.coef_"
   ]
  },
  {
   "cell_type": "markdown",
   "id": "7bc17e7d",
   "metadata": {
    "papermill": {
     "duration": 0.020769,
     "end_time": "2023-08-11T09:24:18.832249",
     "exception": false,
     "start_time": "2023-08-11T09:24:18.81148",
     "status": "completed"
    },
    "tags": []
   },
   "source": [
    "<h3>The coefficients of TV & radio are as above i.e m1, m2</h3>"
   ]
  },
  {
   "cell_type": "code",
   "execution_count": 39,
   "id": "d6faebea",
   "metadata": {
    "execution": {
     "iopub.execute_input": "2023-08-11T09:24:18.876068Z",
     "iopub.status.busy": "2023-08-11T09:24:18.875674Z",
     "iopub.status.idle": "2023-08-11T09:24:18.881832Z",
     "shell.execute_reply": "2023-08-11T09:24:18.880848Z"
    },
    "papermill": {
     "duration": 0.03051,
     "end_time": "2023-08-11T09:24:18.883697",
     "exception": false,
     "start_time": "2023-08-11T09:24:18.853187",
     "status": "completed"
    },
    "tags": []
   },
   "outputs": [
    {
     "data": {
      "text/plain": [
       "3406.164166372333"
      ]
     },
     "execution_count": 39,
     "metadata": {},
     "output_type": "execute_result"
    }
   ],
   "source": [
    "lreg.intercept_"
   ]
  },
  {
   "cell_type": "code",
   "execution_count": 40,
   "id": "8bbaac1f",
   "metadata": {
    "execution": {
     "iopub.execute_input": "2023-08-11T09:24:18.926965Z",
     "iopub.status.busy": "2023-08-11T09:24:18.926567Z",
     "iopub.status.idle": "2023-08-11T09:24:18.933829Z",
     "shell.execute_reply": "2023-08-11T09:24:18.933038Z"
    },
    "papermill": {
     "duration": 0.031178,
     "end_time": "2023-08-11T09:24:18.935693",
     "exception": false,
     "start_time": "2023-08-11T09:24:18.904515",
     "status": "completed"
    },
    "tags": []
   },
   "outputs": [
    {
     "data": {
      "text/plain": [
       "132423907.07154632"
      ]
     },
     "execution_count": 40,
     "metadata": {},
     "output_type": "execute_result"
    }
   ],
   "source": [
    "#MSE for training set\n",
    "mean_squared_error(y_train, predict_train)"
   ]
  },
  {
   "cell_type": "code",
   "execution_count": 41,
   "id": "02f27ae2",
   "metadata": {
    "execution": {
     "iopub.execute_input": "2023-08-11T09:24:18.980199Z",
     "iopub.status.busy": "2023-08-11T09:24:18.979838Z",
     "iopub.status.idle": "2023-08-11T09:24:18.986423Z",
     "shell.execute_reply": "2023-08-11T09:24:18.985642Z"
    },
    "papermill": {
     "duration": 0.031424,
     "end_time": "2023-08-11T09:24:18.988467",
     "exception": false,
     "start_time": "2023-08-11T09:24:18.957043",
     "status": "completed"
    },
    "tags": []
   },
   "outputs": [
    {
     "data": {
      "text/plain": [
       "133923932.6667891"
      ]
     },
     "execution_count": 41,
     "metadata": {},
     "output_type": "execute_result"
    }
   ],
   "source": [
    "#MSE for testing set\n",
    "mean_squared_error(y_test, predict_test)"
   ]
  },
  {
   "cell_type": "code",
   "execution_count": 42,
   "id": "3fa47eab",
   "metadata": {
    "execution": {
     "iopub.execute_input": "2023-08-11T09:24:19.034157Z",
     "iopub.status.busy": "2023-08-11T09:24:19.033751Z",
     "iopub.status.idle": "2023-08-11T09:24:19.04055Z",
     "shell.execute_reply": "2023-08-11T09:24:19.039799Z"
    },
    "papermill": {
     "duration": 0.032354,
     "end_time": "2023-08-11T09:24:19.042416",
     "exception": false,
     "start_time": "2023-08-11T09:24:19.010062",
     "status": "completed"
    },
    "tags": []
   },
   "outputs": [
    {
     "data": {
      "text/plain": [
       "0.09968610843790005"
      ]
     },
     "execution_count": 42,
     "metadata": {},
     "output_type": "execute_result"
    }
   ],
   "source": [
    "#r squared for training set\n",
    "r2_score(y_train, predict_train)"
   ]
  },
  {
   "cell_type": "code",
   "execution_count": 43,
   "id": "56cbf0dc",
   "metadata": {
    "execution": {
     "iopub.execute_input": "2023-08-11T09:24:19.088117Z",
     "iopub.status.busy": "2023-08-11T09:24:19.087107Z",
     "iopub.status.idle": "2023-08-11T09:24:19.093429Z",
     "shell.execute_reply": "2023-08-11T09:24:19.092663Z"
    },
    "papermill": {
     "duration": 0.03121,
     "end_time": "2023-08-11T09:24:19.095456",
     "exception": false,
     "start_time": "2023-08-11T09:24:19.064246",
     "status": "completed"
    },
    "tags": []
   },
   "outputs": [
    {
     "data": {
      "text/plain": [
       "0.07764419138052969"
      ]
     },
     "execution_count": 43,
     "metadata": {},
     "output_type": "execute_result"
    }
   ],
   "source": [
    "#r squared for training set\n",
    "r2_score(y_test, predict_test)"
   ]
  },
  {
   "cell_type": "markdown",
   "id": "715b27ab",
   "metadata": {
    "papermill": {
     "duration": 0.021558,
     "end_time": "2023-08-11T09:24:19.13905",
     "exception": false,
     "start_time": "2023-08-11T09:24:19.117492",
     "status": "completed"
    },
    "tags": []
   },
   "source": [
    "<h1 style=\"border:3px solid blue; padding: 15px;color:white;margin:10;font-size:200%;text-align:center;display:fill;border-radius:10px;overflow:hidden; color:blue;font-weight:bold; font-size:45px;\">🥰Thank you🥰</h1>"
   ]
  }
 ],
 "metadata": {
  "kernelspec": {
   "display_name": "Python 3 (ipykernel)",
   "language": "python",
   "name": "python3"
  },
  "language_info": {
   "codemirror_mode": {
    "name": "ipython",
    "version": 3
   },
   "file_extension": ".py",
   "mimetype": "text/x-python",
   "name": "python",
   "nbconvert_exporter": "python",
   "pygments_lexer": "ipython3",
   "version": "3.10.9"
  },
  "papermill": {
   "default_parameters": {},
   "duration": 17.833593,
   "end_time": "2023-08-11T09:24:20.18318",
   "environment_variables": {},
   "exception": null,
   "input_path": "__notebook__.ipynb",
   "output_path": "__notebook__.ipynb",
   "parameters": {},
   "start_time": "2023-08-11T09:24:02.349587",
   "version": "2.4.0"
  }
 },
 "nbformat": 4,
 "nbformat_minor": 5
}
