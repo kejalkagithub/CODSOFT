{
 "cells": [
  {
   "cell_type": "markdown",
   "id": "c31f038c",
   "metadata": {},
   "source": [
    "<a href=\"https://www.kaggle.com/code/bhanupratapbiswas/iris-flower-classification-analysis?scriptVersionId=139597914\" target=\"_blank\"><img align=\"left\" alt=\"Kaggle\" title=\"Open in Kaggle\" src=\"https://kaggle.com/static/images/open-in-kaggle.svg\"></a>"
   ]
  },
  {
   "cell_type": "markdown",
   "id": "cc7e86c8",
   "metadata": {
    "_cell_guid": "b1076dfc-b9ad-4769-8c92-a6c4dae69d19",
    "_uuid": "8f2839f25d086af736a60e9eeb907d3b93b6e0e5",
    "papermill": {
     "duration": 0.010922,
     "end_time": "2023-08-11T08:30:08.121633",
     "exception": false,
     "start_time": "2023-08-11T08:30:08.110711",
     "status": "completed"
    },
    "tags": []
   },
   "source": [
    "![](https://housing.com/news/wp-content/uploads/2022/11/iris-flower-compressed.jpg)\n",
    "<div style=\"padding: 10px;color:white;margin:10;font-size:200%;text-align:center;display:fill;border-radius:10px;overflow:hidden;background-image: url(https://www.yates.com.au/media/plants/flowers-and-ornamentals/flowers/flowers-iris-image1.jpg?mode=crop&anchor=center&widthratio=1.5&height=576&format=jpg)\"><b><span style='color:Yellow;font-size:60px; font-family:Times New Roman;'> IRIS FLOWER CLASSIFICATION </span></b> </div>\n",
    "\n",
    "\n",
    "\n",
    "![](https://s3.amazonaws.com/assets.datacamp.com/blog_assets/Machine+Learning+R/iris-machinelearning.png)"
   ]
  },
  {
   "cell_type": "markdown",
   "id": "bef50063",
   "metadata": {
    "papermill": {
     "duration": 0.010284,
     "end_time": "2023-08-11T08:30:08.142765",
     "exception": false,
     "start_time": "2023-08-11T08:30:08.132481",
     "status": "completed"
    },
    "tags": []
   },
   "source": [
    "<div style=\"padding: 0px;color:white;margin:10;font-size:200%;text-align:center;display:fill;border-radius:10px;overflow:hidden;background-image: url(https://housing.com/news/wp-content/uploads/2022/11/iris-flower-compressed.jpg)\"><b><span style='color:Yellow;font-size:60px;'> Getting Started </span></b> </div>"
   ]
  },
  {
   "cell_type": "markdown",
   "id": "b10ce649",
   "metadata": {
    "papermill": {
     "duration": 0.010242,
     "end_time": "2023-08-11T08:30:08.163643",
     "exception": false,
     "start_time": "2023-08-11T08:30:08.153401",
     "status": "completed"
    },
    "tags": []
   },
   "source": [
    " <h1 style=\"border:3px solid darkred; padding: 15px;color:white;margin:10;font-size:200%;text-align:center;display:fill;border-radius:10px;overflow:hidden; color:darkred;font-weight:bold; font-size:45px;\">Importing Libraries</h1>"
   ]
  },
  {
   "cell_type": "code",
   "execution_count": 8,
   "id": "ed7b3144",
   "metadata": {
    "execution": {
     "iopub.execute_input": "2023-08-11T08:30:08.186444Z",
     "iopub.status.busy": "2023-08-11T08:30:08.185666Z",
     "iopub.status.idle": "2023-08-11T08:30:10.064728Z",
     "shell.execute_reply": "2023-08-11T08:30:10.063736Z"
    },
    "papermill": {
     "duration": 1.8935,
     "end_time": "2023-08-11T08:30:10.067569",
     "exception": false,
     "start_time": "2023-08-11T08:30:08.174069",
     "status": "completed"
    },
    "tags": []
   },
   "outputs": [],
   "source": [
    "import numpy as np\n",
    "import pandas as pd\n",
    "from sklearn.datasets import load_iris\n",
    "from sklearn.model_selection import train_test_split\n",
    "from sklearn.preprocessing import StandardScaler\n",
    "from sklearn.svm import SVC\n",
    "from sklearn.metrics import accuracy_score, confusion_matrix, classification_report\n",
    "from sklearn.preprocessing import LabelEncoder, MinMaxScaler,StandardScaler\n",
    "from sklearn.linear_model import LogisticRegression\n",
    "import matplotlib.pyplot as plt\n",
    "import seaborn as sns"
   ]
  },
  {
   "cell_type": "markdown",
   "id": "90d3d626",
   "metadata": {
    "papermill": {
     "duration": 0.010402,
     "end_time": "2023-08-11T08:30:10.088768",
     "exception": false,
     "start_time": "2023-08-11T08:30:10.078366",
     "status": "completed"
    },
    "tags": []
   },
   "source": [
    "<h1 style=\"border:3px solid darkred; padding: 15px;color:white;margin:10;font-size:200%;text-align:center;display:fill;border-radius:10px;overflow:hidden; color:darkred;font-weight:bold; font-size:45px;\">✔️Iris ☀️Dataset💥 EDA and Prediction💯</h1>"
   ]
  },
  {
   "cell_type": "code",
   "execution_count": 9,
   "id": "c4bc4e49",
   "metadata": {
    "execution": {
     "iopub.execute_input": "2023-08-11T08:30:10.111082Z",
     "iopub.status.busy": "2023-08-11T08:30:10.110782Z",
     "iopub.status.idle": "2023-08-11T08:30:10.148707Z",
     "shell.execute_reply": "2023-08-11T08:30:10.147467Z"
    },
    "papermill": {
     "duration": 0.052182,
     "end_time": "2023-08-11T08:30:10.151303",
     "exception": false,
     "start_time": "2023-08-11T08:30:10.099121",
     "status": "completed"
    },
    "tags": []
   },
   "outputs": [
    {
     "data": {
      "text/html": [
       "<div>\n",
       "<style scoped>\n",
       "    .dataframe tbody tr th:only-of-type {\n",
       "        vertical-align: middle;\n",
       "    }\n",
       "\n",
       "    .dataframe tbody tr th {\n",
       "        vertical-align: top;\n",
       "    }\n",
       "\n",
       "    .dataframe thead th {\n",
       "        text-align: right;\n",
       "    }\n",
       "</style>\n",
       "<table border=\"1\" class=\"dataframe\">\n",
       "  <thead>\n",
       "    <tr style=\"text-align: right;\">\n",
       "      <th></th>\n",
       "      <th>sepal.length</th>\n",
       "      <th>sepal.width</th>\n",
       "      <th>petal.length</th>\n",
       "      <th>petal.width</th>\n",
       "      <th>variety</th>\n",
       "    </tr>\n",
       "  </thead>\n",
       "  <tbody>\n",
       "    <tr>\n",
       "      <th>0</th>\n",
       "      <td>5.1</td>\n",
       "      <td>3.5</td>\n",
       "      <td>1.4</td>\n",
       "      <td>0.2</td>\n",
       "      <td>Setosa</td>\n",
       "    </tr>\n",
       "    <tr>\n",
       "      <th>1</th>\n",
       "      <td>4.9</td>\n",
       "      <td>3.0</td>\n",
       "      <td>1.4</td>\n",
       "      <td>0.2</td>\n",
       "      <td>Setosa</td>\n",
       "    </tr>\n",
       "    <tr>\n",
       "      <th>2</th>\n",
       "      <td>4.7</td>\n",
       "      <td>3.2</td>\n",
       "      <td>1.3</td>\n",
       "      <td>0.2</td>\n",
       "      <td>Setosa</td>\n",
       "    </tr>\n",
       "    <tr>\n",
       "      <th>3</th>\n",
       "      <td>4.6</td>\n",
       "      <td>3.1</td>\n",
       "      <td>1.5</td>\n",
       "      <td>0.2</td>\n",
       "      <td>Setosa</td>\n",
       "    </tr>\n",
       "    <tr>\n",
       "      <th>4</th>\n",
       "      <td>5.0</td>\n",
       "      <td>3.6</td>\n",
       "      <td>1.4</td>\n",
       "      <td>0.2</td>\n",
       "      <td>Setosa</td>\n",
       "    </tr>\n",
       "    <tr>\n",
       "      <th>...</th>\n",
       "      <td>...</td>\n",
       "      <td>...</td>\n",
       "      <td>...</td>\n",
       "      <td>...</td>\n",
       "      <td>...</td>\n",
       "    </tr>\n",
       "    <tr>\n",
       "      <th>145</th>\n",
       "      <td>6.7</td>\n",
       "      <td>3.0</td>\n",
       "      <td>5.2</td>\n",
       "      <td>2.3</td>\n",
       "      <td>Virginica</td>\n",
       "    </tr>\n",
       "    <tr>\n",
       "      <th>146</th>\n",
       "      <td>6.3</td>\n",
       "      <td>2.5</td>\n",
       "      <td>5.0</td>\n",
       "      <td>1.9</td>\n",
       "      <td>Virginica</td>\n",
       "    </tr>\n",
       "    <tr>\n",
       "      <th>147</th>\n",
       "      <td>6.5</td>\n",
       "      <td>3.0</td>\n",
       "      <td>5.2</td>\n",
       "      <td>2.0</td>\n",
       "      <td>Virginica</td>\n",
       "    </tr>\n",
       "    <tr>\n",
       "      <th>148</th>\n",
       "      <td>6.2</td>\n",
       "      <td>3.4</td>\n",
       "      <td>5.4</td>\n",
       "      <td>2.3</td>\n",
       "      <td>Virginica</td>\n",
       "    </tr>\n",
       "    <tr>\n",
       "      <th>149</th>\n",
       "      <td>5.9</td>\n",
       "      <td>3.0</td>\n",
       "      <td>5.1</td>\n",
       "      <td>1.8</td>\n",
       "      <td>Virginica</td>\n",
       "    </tr>\n",
       "  </tbody>\n",
       "</table>\n",
       "<p>150 rows × 5 columns</p>\n",
       "</div>"
      ],
      "text/plain": [
       "     sepal.length  sepal.width  petal.length  petal.width    variety\n",
       "0             5.1          3.5           1.4          0.2     Setosa\n",
       "1             4.9          3.0           1.4          0.2     Setosa\n",
       "2             4.7          3.2           1.3          0.2     Setosa\n",
       "3             4.6          3.1           1.5          0.2     Setosa\n",
       "4             5.0          3.6           1.4          0.2     Setosa\n",
       "..            ...          ...           ...          ...        ...\n",
       "145           6.7          3.0           5.2          2.3  Virginica\n",
       "146           6.3          2.5           5.0          1.9  Virginica\n",
       "147           6.5          3.0           5.2          2.0  Virginica\n",
       "148           6.2          3.4           5.4          2.3  Virginica\n",
       "149           5.9          3.0           5.1          1.8  Virginica\n",
       "\n",
       "[150 rows x 5 columns]"
      ]
     },
     "execution_count": 9,
     "metadata": {},
     "output_type": "execute_result"
    }
   ],
   "source": [
    "df = pd.read_csv('iris.csv')\n",
    "df"
   ]
  },
  {
   "cell_type": "code",
   "execution_count": 10,
   "id": "1d3381c0",
   "metadata": {
    "execution": {
     "iopub.execute_input": "2023-08-11T08:30:10.175455Z",
     "iopub.status.busy": "2023-08-11T08:30:10.174549Z",
     "iopub.status.idle": "2023-08-11T08:30:10.191341Z",
     "shell.execute_reply": "2023-08-11T08:30:10.190287Z"
    },
    "papermill": {
     "duration": 0.030781,
     "end_time": "2023-08-11T08:30:10.193757",
     "exception": false,
     "start_time": "2023-08-11T08:30:10.162976",
     "status": "completed"
    },
    "tags": []
   },
   "outputs": [
    {
     "data": {
      "text/html": [
       "<div>\n",
       "<style scoped>\n",
       "    .dataframe tbody tr th:only-of-type {\n",
       "        vertical-align: middle;\n",
       "    }\n",
       "\n",
       "    .dataframe tbody tr th {\n",
       "        vertical-align: top;\n",
       "    }\n",
       "\n",
       "    .dataframe thead th {\n",
       "        text-align: right;\n",
       "    }\n",
       "</style>\n",
       "<table border=\"1\" class=\"dataframe\">\n",
       "  <thead>\n",
       "    <tr style=\"text-align: right;\">\n",
       "      <th></th>\n",
       "      <th>sepal.length</th>\n",
       "      <th>sepal.width</th>\n",
       "      <th>petal.length</th>\n",
       "      <th>petal.width</th>\n",
       "      <th>variety</th>\n",
       "    </tr>\n",
       "  </thead>\n",
       "  <tbody>\n",
       "    <tr>\n",
       "      <th>14</th>\n",
       "      <td>5.8</td>\n",
       "      <td>4.0</td>\n",
       "      <td>1.2</td>\n",
       "      <td>0.2</td>\n",
       "      <td>Setosa</td>\n",
       "    </tr>\n",
       "    <tr>\n",
       "      <th>92</th>\n",
       "      <td>5.8</td>\n",
       "      <td>2.6</td>\n",
       "      <td>4.0</td>\n",
       "      <td>1.2</td>\n",
       "      <td>Versicolor</td>\n",
       "    </tr>\n",
       "    <tr>\n",
       "      <th>135</th>\n",
       "      <td>7.7</td>\n",
       "      <td>3.0</td>\n",
       "      <td>6.1</td>\n",
       "      <td>2.3</td>\n",
       "      <td>Virginica</td>\n",
       "    </tr>\n",
       "    <tr>\n",
       "      <th>111</th>\n",
       "      <td>6.4</td>\n",
       "      <td>2.7</td>\n",
       "      <td>5.3</td>\n",
       "      <td>1.9</td>\n",
       "      <td>Virginica</td>\n",
       "    </tr>\n",
       "    <tr>\n",
       "      <th>5</th>\n",
       "      <td>5.4</td>\n",
       "      <td>3.9</td>\n",
       "      <td>1.7</td>\n",
       "      <td>0.4</td>\n",
       "      <td>Setosa</td>\n",
       "    </tr>\n",
       "  </tbody>\n",
       "</table>\n",
       "</div>"
      ],
      "text/plain": [
       "     sepal.length  sepal.width  petal.length  petal.width     variety\n",
       "14            5.8          4.0           1.2          0.2      Setosa\n",
       "92            5.8          2.6           4.0          1.2  Versicolor\n",
       "135           7.7          3.0           6.1          2.3   Virginica\n",
       "111           6.4          2.7           5.3          1.9   Virginica\n",
       "5             5.4          3.9           1.7          0.4      Setosa"
      ]
     },
     "execution_count": 10,
     "metadata": {},
     "output_type": "execute_result"
    }
   ],
   "source": [
    "df.sample(5)"
   ]
  },
  {
   "cell_type": "code",
   "execution_count": 11,
   "id": "a401a14b",
   "metadata": {
    "execution": {
     "iopub.execute_input": "2023-08-11T08:30:10.218799Z",
     "iopub.status.busy": "2023-08-11T08:30:10.218Z",
     "iopub.status.idle": "2023-08-11T08:30:10.238773Z",
     "shell.execute_reply": "2023-08-11T08:30:10.237304Z"
    },
    "papermill": {
     "duration": 0.034374,
     "end_time": "2023-08-11T08:30:10.240742",
     "exception": false,
     "start_time": "2023-08-11T08:30:10.206368",
     "status": "completed"
    },
    "tags": []
   },
   "outputs": [
    {
     "name": "stdout",
     "output_type": "stream",
     "text": [
      "<class 'pandas.core.frame.DataFrame'>\n",
      "RangeIndex: 150 entries, 0 to 149\n",
      "Data columns (total 5 columns):\n",
      " #   Column        Non-Null Count  Dtype  \n",
      "---  ------        --------------  -----  \n",
      " 0   sepal.length  150 non-null    float64\n",
      " 1   sepal.width   150 non-null    float64\n",
      " 2   petal.length  150 non-null    float64\n",
      " 3   petal.width   150 non-null    float64\n",
      " 4   variety       150 non-null    object \n",
      "dtypes: float64(4), object(1)\n",
      "memory usage: 6.0+ KB\n"
     ]
    }
   ],
   "source": [
    "df.info()"
   ]
  },
  {
   "cell_type": "code",
   "execution_count": 12,
   "id": "85460686",
   "metadata": {
    "execution": {
     "iopub.execute_input": "2023-08-11T08:30:10.266132Z",
     "iopub.status.busy": "2023-08-11T08:30:10.264373Z",
     "iopub.status.idle": "2023-08-11T08:30:10.27073Z",
     "shell.execute_reply": "2023-08-11T08:30:10.269721Z"
    },
    "papermill": {
     "duration": 0.020707,
     "end_time": "2023-08-11T08:30:10.272775",
     "exception": false,
     "start_time": "2023-08-11T08:30:10.252068",
     "status": "completed"
    },
    "tags": []
   },
   "outputs": [
    {
     "ename": "KeyError",
     "evalue": "'species'",
     "output_type": "error",
     "traceback": [
      "\u001b[1;31m---------------------------------------------------------------------------\u001b[0m",
      "\u001b[1;31mKeyError\u001b[0m                                  Traceback (most recent call last)",
      "File \u001b[1;32m~\\anaconda3\\lib\\site-packages\\pandas\\core\\indexes\\base.py:3802\u001b[0m, in \u001b[0;36mIndex.get_loc\u001b[1;34m(self, key, method, tolerance)\u001b[0m\n\u001b[0;32m   3801\u001b[0m \u001b[38;5;28;01mtry\u001b[39;00m:\n\u001b[1;32m-> 3802\u001b[0m     \u001b[38;5;28;01mreturn\u001b[39;00m \u001b[38;5;28;43mself\u001b[39;49m\u001b[38;5;241;43m.\u001b[39;49m\u001b[43m_engine\u001b[49m\u001b[38;5;241;43m.\u001b[39;49m\u001b[43mget_loc\u001b[49m\u001b[43m(\u001b[49m\u001b[43mcasted_key\u001b[49m\u001b[43m)\u001b[49m\n\u001b[0;32m   3803\u001b[0m \u001b[38;5;28;01mexcept\u001b[39;00m \u001b[38;5;167;01mKeyError\u001b[39;00m \u001b[38;5;28;01mas\u001b[39;00m err:\n",
      "File \u001b[1;32m~\\anaconda3\\lib\\site-packages\\pandas\\_libs\\index.pyx:138\u001b[0m, in \u001b[0;36mpandas._libs.index.IndexEngine.get_loc\u001b[1;34m()\u001b[0m\n",
      "File \u001b[1;32m~\\anaconda3\\lib\\site-packages\\pandas\\_libs\\index.pyx:165\u001b[0m, in \u001b[0;36mpandas._libs.index.IndexEngine.get_loc\u001b[1;34m()\u001b[0m\n",
      "File \u001b[1;32mpandas\\_libs\\hashtable_class_helper.pxi:5745\u001b[0m, in \u001b[0;36mpandas._libs.hashtable.PyObjectHashTable.get_item\u001b[1;34m()\u001b[0m\n",
      "File \u001b[1;32mpandas\\_libs\\hashtable_class_helper.pxi:5753\u001b[0m, in \u001b[0;36mpandas._libs.hashtable.PyObjectHashTable.get_item\u001b[1;34m()\u001b[0m\n",
      "\u001b[1;31mKeyError\u001b[0m: 'species'",
      "\nThe above exception was the direct cause of the following exception:\n",
      "\u001b[1;31mKeyError\u001b[0m                                  Traceback (most recent call last)",
      "Cell \u001b[1;32mIn[12], line 1\u001b[0m\n\u001b[1;32m----> 1\u001b[0m df[\u001b[38;5;124m'\u001b[39m\u001b[38;5;124mspecies\u001b[39m\u001b[38;5;124m'\u001b[39m]\u001b[38;5;241m=\u001b[39m\u001b[43mdf\u001b[49m\u001b[43m[\u001b[49m\u001b[38;5;124;43m'\u001b[39;49m\u001b[38;5;124;43mspecies\u001b[39;49m\u001b[38;5;124;43m'\u001b[39;49m\u001b[43m]\u001b[49m\u001b[38;5;241m.\u001b[39mstr\u001b[38;5;241m.\u001b[39mreplace(\u001b[38;5;124m'\u001b[39m\u001b[38;5;124mIris-\u001b[39m\u001b[38;5;124m'\u001b[39m,\u001b[38;5;124m'\u001b[39m\u001b[38;5;124m'\u001b[39m)\n",
      "File \u001b[1;32m~\\anaconda3\\lib\\site-packages\\pandas\\core\\frame.py:3807\u001b[0m, in \u001b[0;36mDataFrame.__getitem__\u001b[1;34m(self, key)\u001b[0m\n\u001b[0;32m   3805\u001b[0m \u001b[38;5;28;01mif\u001b[39;00m \u001b[38;5;28mself\u001b[39m\u001b[38;5;241m.\u001b[39mcolumns\u001b[38;5;241m.\u001b[39mnlevels \u001b[38;5;241m>\u001b[39m \u001b[38;5;241m1\u001b[39m:\n\u001b[0;32m   3806\u001b[0m     \u001b[38;5;28;01mreturn\u001b[39;00m \u001b[38;5;28mself\u001b[39m\u001b[38;5;241m.\u001b[39m_getitem_multilevel(key)\n\u001b[1;32m-> 3807\u001b[0m indexer \u001b[38;5;241m=\u001b[39m \u001b[38;5;28;43mself\u001b[39;49m\u001b[38;5;241;43m.\u001b[39;49m\u001b[43mcolumns\u001b[49m\u001b[38;5;241;43m.\u001b[39;49m\u001b[43mget_loc\u001b[49m\u001b[43m(\u001b[49m\u001b[43mkey\u001b[49m\u001b[43m)\u001b[49m\n\u001b[0;32m   3808\u001b[0m \u001b[38;5;28;01mif\u001b[39;00m is_integer(indexer):\n\u001b[0;32m   3809\u001b[0m     indexer \u001b[38;5;241m=\u001b[39m [indexer]\n",
      "File \u001b[1;32m~\\anaconda3\\lib\\site-packages\\pandas\\core\\indexes\\base.py:3804\u001b[0m, in \u001b[0;36mIndex.get_loc\u001b[1;34m(self, key, method, tolerance)\u001b[0m\n\u001b[0;32m   3802\u001b[0m     \u001b[38;5;28;01mreturn\u001b[39;00m \u001b[38;5;28mself\u001b[39m\u001b[38;5;241m.\u001b[39m_engine\u001b[38;5;241m.\u001b[39mget_loc(casted_key)\n\u001b[0;32m   3803\u001b[0m \u001b[38;5;28;01mexcept\u001b[39;00m \u001b[38;5;167;01mKeyError\u001b[39;00m \u001b[38;5;28;01mas\u001b[39;00m err:\n\u001b[1;32m-> 3804\u001b[0m     \u001b[38;5;28;01mraise\u001b[39;00m \u001b[38;5;167;01mKeyError\u001b[39;00m(key) \u001b[38;5;28;01mfrom\u001b[39;00m \u001b[38;5;21;01merr\u001b[39;00m\n\u001b[0;32m   3805\u001b[0m \u001b[38;5;28;01mexcept\u001b[39;00m \u001b[38;5;167;01mTypeError\u001b[39;00m:\n\u001b[0;32m   3806\u001b[0m     \u001b[38;5;66;03m# If we have a listlike key, _check_indexing_error will raise\u001b[39;00m\n\u001b[0;32m   3807\u001b[0m     \u001b[38;5;66;03m#  InvalidIndexError. Otherwise we fall through and re-raise\u001b[39;00m\n\u001b[0;32m   3808\u001b[0m     \u001b[38;5;66;03m#  the TypeError.\u001b[39;00m\n\u001b[0;32m   3809\u001b[0m     \u001b[38;5;28mself\u001b[39m\u001b[38;5;241m.\u001b[39m_check_indexing_error(key)\n",
      "\u001b[1;31mKeyError\u001b[0m: 'species'"
     ]
    }
   ],
   "source": [
    "df['species']=df['species'].str.replace('Iris-','')"
   ]
  },
  {
   "cell_type": "code",
   "execution_count": null,
   "id": "327a6c80",
   "metadata": {
    "execution": {
     "iopub.execute_input": "2023-08-11T08:30:10.298795Z",
     "iopub.status.busy": "2023-08-11T08:30:10.297921Z",
     "iopub.status.idle": "2023-08-11T08:30:10.322156Z",
     "shell.execute_reply": "2023-08-11T08:30:10.321083Z"
    },
    "papermill": {
     "duration": 0.038879,
     "end_time": "2023-08-11T08:30:10.32473",
     "exception": false,
     "start_time": "2023-08-11T08:30:10.285851",
     "status": "completed"
    },
    "tags": []
   },
   "outputs": [],
   "source": [
    "df.describe()"
   ]
  },
  {
   "cell_type": "markdown",
   "id": "fa82ef33",
   "metadata": {
    "papermill": {
     "duration": 0.011136,
     "end_time": "2023-08-11T08:30:10.347484",
     "exception": false,
     "start_time": "2023-08-11T08:30:10.336348",
     "status": "completed"
    },
    "tags": []
   },
   "source": [
    "![](https://editor.analyticsvidhya.com/uploads/51518iris%20img1.png)"
   ]
  },
  {
   "cell_type": "markdown",
   "id": "9b7b8f75",
   "metadata": {
    "papermill": {
     "duration": 0.012403,
     "end_time": "2023-08-11T08:30:10.371254",
     "exception": false,
     "start_time": "2023-08-11T08:30:10.358851",
     "status": "completed"
    },
    "tags": []
   },
   "source": [
    "<h1 style=\"border:3px solid darkred; padding: 15px;color:white;margin:10;font-size:200%;text-align:center;display:fill;border-radius:10px;overflow:hidden; color:darkred;font-weight:bold; font-size:45px;\">Sepal Length & Width</h1>"
   ]
  },
  {
   "cell_type": "code",
   "execution_count": 7,
   "id": "f97dfe7a",
   "metadata": {
    "execution": {
     "iopub.execute_input": "2023-08-11T08:30:10.395178Z",
     "iopub.status.busy": "2023-08-11T08:30:10.394875Z",
     "iopub.status.idle": "2023-08-11T08:30:10.866855Z",
     "shell.execute_reply": "2023-08-11T08:30:10.865944Z"
    },
    "papermill": {
     "duration": 0.486576,
     "end_time": "2023-08-11T08:30:10.869017",
     "exception": false,
     "start_time": "2023-08-11T08:30:10.382441",
     "status": "completed"
    },
    "tags": []
   },
   "outputs": [
    {
     "ename": "KeyError",
     "evalue": "'sepal_length'",
     "output_type": "error",
     "traceback": [
      "\u001b[1;31m---------------------------------------------------------------------------\u001b[0m",
      "\u001b[1;31mKeyError\u001b[0m                                  Traceback (most recent call last)",
      "File \u001b[1;32m~\\anaconda3\\lib\\site-packages\\pandas\\core\\indexes\\base.py:3802\u001b[0m, in \u001b[0;36mIndex.get_loc\u001b[1;34m(self, key, method, tolerance)\u001b[0m\n\u001b[0;32m   3801\u001b[0m \u001b[38;5;28;01mtry\u001b[39;00m:\n\u001b[1;32m-> 3802\u001b[0m     \u001b[38;5;28;01mreturn\u001b[39;00m \u001b[38;5;28;43mself\u001b[39;49m\u001b[38;5;241;43m.\u001b[39;49m\u001b[43m_engine\u001b[49m\u001b[38;5;241;43m.\u001b[39;49m\u001b[43mget_loc\u001b[49m\u001b[43m(\u001b[49m\u001b[43mcasted_key\u001b[49m\u001b[43m)\u001b[49m\n\u001b[0;32m   3803\u001b[0m \u001b[38;5;28;01mexcept\u001b[39;00m \u001b[38;5;167;01mKeyError\u001b[39;00m \u001b[38;5;28;01mas\u001b[39;00m err:\n",
      "File \u001b[1;32m~\\anaconda3\\lib\\site-packages\\pandas\\_libs\\index.pyx:138\u001b[0m, in \u001b[0;36mpandas._libs.index.IndexEngine.get_loc\u001b[1;34m()\u001b[0m\n",
      "File \u001b[1;32m~\\anaconda3\\lib\\site-packages\\pandas\\_libs\\index.pyx:165\u001b[0m, in \u001b[0;36mpandas._libs.index.IndexEngine.get_loc\u001b[1;34m()\u001b[0m\n",
      "File \u001b[1;32mpandas\\_libs\\hashtable_class_helper.pxi:5745\u001b[0m, in \u001b[0;36mpandas._libs.hashtable.PyObjectHashTable.get_item\u001b[1;34m()\u001b[0m\n",
      "File \u001b[1;32mpandas\\_libs\\hashtable_class_helper.pxi:5753\u001b[0m, in \u001b[0;36mpandas._libs.hashtable.PyObjectHashTable.get_item\u001b[1;34m()\u001b[0m\n",
      "\u001b[1;31mKeyError\u001b[0m: 'sepal_length'",
      "\nThe above exception was the direct cause of the following exception:\n",
      "\u001b[1;31mKeyError\u001b[0m                                  Traceback (most recent call last)",
      "Cell \u001b[1;32mIn[7], line 2\u001b[0m\n\u001b[0;32m      1\u001b[0m \u001b[38;5;66;03m# df['sepal_length'].plot(kind='hist')\u001b[39;00m\n\u001b[1;32m----> 2\u001b[0m \u001b[43mdf\u001b[49m\u001b[43m[\u001b[49m\u001b[38;5;124;43m'\u001b[39;49m\u001b[38;5;124;43msepal_length\u001b[39;49m\u001b[38;5;124;43m'\u001b[39;49m\u001b[43m]\u001b[49m\u001b[38;5;241m.\u001b[39mplot(kind\u001b[38;5;241m=\u001b[39m\u001b[38;5;124m'\u001b[39m\u001b[38;5;124mline\u001b[39m\u001b[38;5;124m'\u001b[39m,legend\u001b[38;5;241m=\u001b[39m\u001b[38;5;28;01mTrue\u001b[39;00m,marker\u001b[38;5;241m=\u001b[39m\u001b[38;5;124m'\u001b[39m\u001b[38;5;124mo\u001b[39m\u001b[38;5;124m'\u001b[39m,color\u001b[38;5;241m=\u001b[39m\u001b[38;5;124m'\u001b[39m\u001b[38;5;124mr\u001b[39m\u001b[38;5;124m'\u001b[39m,figsize\u001b[38;5;241m=\u001b[39m(\u001b[38;5;241m10\u001b[39m,\u001b[38;5;241m5\u001b[39m),grid\u001b[38;5;241m=\u001b[39m\u001b[38;5;28;01mTrue\u001b[39;00m,rot\u001b[38;5;241m=\u001b[39m\u001b[38;5;241m45\u001b[39m)\n\u001b[0;32m      3\u001b[0m df[\u001b[38;5;124m'\u001b[39m\u001b[38;5;124msepal_width\u001b[39m\u001b[38;5;124m'\u001b[39m]\u001b[38;5;241m.\u001b[39mplot(kind\u001b[38;5;241m=\u001b[39m\u001b[38;5;124m'\u001b[39m\u001b[38;5;124mline\u001b[39m\u001b[38;5;124m'\u001b[39m,legend\u001b[38;5;241m=\u001b[39m\u001b[38;5;28;01mTrue\u001b[39;00m,marker\u001b[38;5;241m=\u001b[39m\u001b[38;5;124m\"\u001b[39m\u001b[38;5;124mX\u001b[39m\u001b[38;5;124m\"\u001b[39m,color\u001b[38;5;241m=\u001b[39m\u001b[38;5;124m'\u001b[39m\u001b[38;5;124mb\u001b[39m\u001b[38;5;124m'\u001b[39m,figsize\u001b[38;5;241m=\u001b[39m(\u001b[38;5;241m10\u001b[39m,\u001b[38;5;241m5\u001b[39m),grid\u001b[38;5;241m=\u001b[39m\u001b[38;5;28;01mTrue\u001b[39;00m,rot\u001b[38;5;241m=\u001b[39m\u001b[38;5;241m45\u001b[39m)\n\u001b[0;32m      4\u001b[0m plt\u001b[38;5;241m.\u001b[39mtitle(\u001b[38;5;124m'\u001b[39m\u001b[38;5;124mSepal Length&Width\u001b[39m\u001b[38;5;124m'\u001b[39m,pad\u001b[38;5;241m=\u001b[39m\u001b[38;5;241m10\u001b[39m,loc\u001b[38;5;241m=\u001b[39m\u001b[38;5;124m'\u001b[39m\u001b[38;5;124mcenter\u001b[39m\u001b[38;5;124m'\u001b[39m,fontdict\u001b[38;5;241m=\u001b[39m{\u001b[38;5;124m'\u001b[39m\u001b[38;5;124mfontsize\u001b[39m\u001b[38;5;124m'\u001b[39m: \u001b[38;5;241m20\u001b[39m, \u001b[38;5;124m'\u001b[39m\u001b[38;5;124mcolor\u001b[39m\u001b[38;5;124m'\u001b[39m: \u001b[38;5;124m'\u001b[39m\u001b[38;5;124mr\u001b[39m\u001b[38;5;124m'\u001b[39m,\u001b[38;5;124m'\u001b[39m\u001b[38;5;124mverticalalignment\u001b[39m\u001b[38;5;124m'\u001b[39m: \u001b[38;5;124m'\u001b[39m\u001b[38;5;124mbaseline\u001b[39m\u001b[38;5;124m'\u001b[39m,})\n",
      "File \u001b[1;32m~\\anaconda3\\lib\\site-packages\\pandas\\core\\frame.py:3807\u001b[0m, in \u001b[0;36mDataFrame.__getitem__\u001b[1;34m(self, key)\u001b[0m\n\u001b[0;32m   3805\u001b[0m \u001b[38;5;28;01mif\u001b[39;00m \u001b[38;5;28mself\u001b[39m\u001b[38;5;241m.\u001b[39mcolumns\u001b[38;5;241m.\u001b[39mnlevels \u001b[38;5;241m>\u001b[39m \u001b[38;5;241m1\u001b[39m:\n\u001b[0;32m   3806\u001b[0m     \u001b[38;5;28;01mreturn\u001b[39;00m \u001b[38;5;28mself\u001b[39m\u001b[38;5;241m.\u001b[39m_getitem_multilevel(key)\n\u001b[1;32m-> 3807\u001b[0m indexer \u001b[38;5;241m=\u001b[39m \u001b[38;5;28;43mself\u001b[39;49m\u001b[38;5;241;43m.\u001b[39;49m\u001b[43mcolumns\u001b[49m\u001b[38;5;241;43m.\u001b[39;49m\u001b[43mget_loc\u001b[49m\u001b[43m(\u001b[49m\u001b[43mkey\u001b[49m\u001b[43m)\u001b[49m\n\u001b[0;32m   3808\u001b[0m \u001b[38;5;28;01mif\u001b[39;00m is_integer(indexer):\n\u001b[0;32m   3809\u001b[0m     indexer \u001b[38;5;241m=\u001b[39m [indexer]\n",
      "File \u001b[1;32m~\\anaconda3\\lib\\site-packages\\pandas\\core\\indexes\\base.py:3804\u001b[0m, in \u001b[0;36mIndex.get_loc\u001b[1;34m(self, key, method, tolerance)\u001b[0m\n\u001b[0;32m   3802\u001b[0m     \u001b[38;5;28;01mreturn\u001b[39;00m \u001b[38;5;28mself\u001b[39m\u001b[38;5;241m.\u001b[39m_engine\u001b[38;5;241m.\u001b[39mget_loc(casted_key)\n\u001b[0;32m   3803\u001b[0m \u001b[38;5;28;01mexcept\u001b[39;00m \u001b[38;5;167;01mKeyError\u001b[39;00m \u001b[38;5;28;01mas\u001b[39;00m err:\n\u001b[1;32m-> 3804\u001b[0m     \u001b[38;5;28;01mraise\u001b[39;00m \u001b[38;5;167;01mKeyError\u001b[39;00m(key) \u001b[38;5;28;01mfrom\u001b[39;00m \u001b[38;5;21;01merr\u001b[39;00m\n\u001b[0;32m   3805\u001b[0m \u001b[38;5;28;01mexcept\u001b[39;00m \u001b[38;5;167;01mTypeError\u001b[39;00m:\n\u001b[0;32m   3806\u001b[0m     \u001b[38;5;66;03m# If we have a listlike key, _check_indexing_error will raise\u001b[39;00m\n\u001b[0;32m   3807\u001b[0m     \u001b[38;5;66;03m#  InvalidIndexError. Otherwise we fall through and re-raise\u001b[39;00m\n\u001b[0;32m   3808\u001b[0m     \u001b[38;5;66;03m#  the TypeError.\u001b[39;00m\n\u001b[0;32m   3809\u001b[0m     \u001b[38;5;28mself\u001b[39m\u001b[38;5;241m.\u001b[39m_check_indexing_error(key)\n",
      "\u001b[1;31mKeyError\u001b[0m: 'sepal_length'"
     ]
    }
   ],
   "source": [
    "# df['sepal_length'].plot(kind='hist')\n",
    "df['sepal_length'].plot(kind='line',legend=True,marker='o',color='r',figsize=(10,5),grid=True,rot=45)\n",
    "df['sepal_width'].plot(kind='line',legend=True,marker=\"X\",color='b',figsize=(10,5),grid=True,rot=45)\n",
    "plt.title('Sepal Length&Width',pad=10,loc='center',fontdict={'fontsize': 20, 'color': 'r','verticalalignment': 'baseline',})\n",
    "plt.xlabel('Count',labelpad=20,loc='center',fontdict={'fontsize': 15, 'color': 'b','verticalalignment': 'baseline',})\n",
    "plt.ylabel('Length/Width',labelpad=20,loc='center',fontdict={'fontsize': 15, 'color': 'b','verticalalignment': 'baseline',})"
   ]
  },
  {
   "cell_type": "markdown",
   "id": "ac36a6b3",
   "metadata": {
    "papermill": {
     "duration": 0.012602,
     "end_time": "2023-08-11T08:30:10.894381",
     "exception": false,
     "start_time": "2023-08-11T08:30:10.881779",
     "status": "completed"
    },
    "tags": []
   },
   "source": [
    "<h1 style=\"border:3px solid darkred; padding: 15px;color:white;margin:10;font-size:200%;text-align:center;display:fill;border-radius:10px;overflow:hidden; color:darkred;font-weight:bold; font-size:45px;\">Sepal length is greater then Sepal width</h1>"
   ]
  },
  {
   "cell_type": "code",
   "execution_count": 8,
   "id": "c687255f",
   "metadata": {
    "execution": {
     "iopub.execute_input": "2023-08-11T08:30:10.920764Z",
     "iopub.status.busy": "2023-08-11T08:30:10.92035Z",
     "iopub.status.idle": "2023-08-11T08:30:11.352855Z",
     "shell.execute_reply": "2023-08-11T08:30:11.351956Z"
    },
    "papermill": {
     "duration": 0.448447,
     "end_time": "2023-08-11T08:30:11.355601",
     "exception": false,
     "start_time": "2023-08-11T08:30:10.907154",
     "status": "completed"
    },
    "tags": []
   },
   "outputs": [
    {
     "ename": "KeyError",
     "evalue": "'petal_length'",
     "output_type": "error",
     "traceback": [
      "\u001b[1;31m---------------------------------------------------------------------------\u001b[0m",
      "\u001b[1;31mKeyError\u001b[0m                                  Traceback (most recent call last)",
      "File \u001b[1;32m~\\anaconda3\\lib\\site-packages\\pandas\\core\\indexes\\base.py:3802\u001b[0m, in \u001b[0;36mIndex.get_loc\u001b[1;34m(self, key, method, tolerance)\u001b[0m\n\u001b[0;32m   3801\u001b[0m \u001b[38;5;28;01mtry\u001b[39;00m:\n\u001b[1;32m-> 3802\u001b[0m     \u001b[38;5;28;01mreturn\u001b[39;00m \u001b[38;5;28;43mself\u001b[39;49m\u001b[38;5;241;43m.\u001b[39;49m\u001b[43m_engine\u001b[49m\u001b[38;5;241;43m.\u001b[39;49m\u001b[43mget_loc\u001b[49m\u001b[43m(\u001b[49m\u001b[43mcasted_key\u001b[49m\u001b[43m)\u001b[49m\n\u001b[0;32m   3803\u001b[0m \u001b[38;5;28;01mexcept\u001b[39;00m \u001b[38;5;167;01mKeyError\u001b[39;00m \u001b[38;5;28;01mas\u001b[39;00m err:\n",
      "File \u001b[1;32m~\\anaconda3\\lib\\site-packages\\pandas\\_libs\\index.pyx:138\u001b[0m, in \u001b[0;36mpandas._libs.index.IndexEngine.get_loc\u001b[1;34m()\u001b[0m\n",
      "File \u001b[1;32m~\\anaconda3\\lib\\site-packages\\pandas\\_libs\\index.pyx:165\u001b[0m, in \u001b[0;36mpandas._libs.index.IndexEngine.get_loc\u001b[1;34m()\u001b[0m\n",
      "File \u001b[1;32mpandas\\_libs\\hashtable_class_helper.pxi:5745\u001b[0m, in \u001b[0;36mpandas._libs.hashtable.PyObjectHashTable.get_item\u001b[1;34m()\u001b[0m\n",
      "File \u001b[1;32mpandas\\_libs\\hashtable_class_helper.pxi:5753\u001b[0m, in \u001b[0;36mpandas._libs.hashtable.PyObjectHashTable.get_item\u001b[1;34m()\u001b[0m\n",
      "\u001b[1;31mKeyError\u001b[0m: 'petal_length'",
      "\nThe above exception was the direct cause of the following exception:\n",
      "\u001b[1;31mKeyError\u001b[0m                                  Traceback (most recent call last)",
      "Cell \u001b[1;32mIn[8], line 1\u001b[0m\n\u001b[1;32m----> 1\u001b[0m \u001b[43mdf\u001b[49m\u001b[43m[\u001b[49m\u001b[38;5;124;43m'\u001b[39;49m\u001b[38;5;124;43mpetal_length\u001b[39;49m\u001b[38;5;124;43m'\u001b[39;49m\u001b[43m]\u001b[49m\u001b[38;5;241m.\u001b[39mplot(kind\u001b[38;5;241m=\u001b[39m\u001b[38;5;124m'\u001b[39m\u001b[38;5;124mline\u001b[39m\u001b[38;5;124m'\u001b[39m,legend\u001b[38;5;241m=\u001b[39m\u001b[38;5;28;01mTrue\u001b[39;00m,marker\u001b[38;5;241m=\u001b[39m\u001b[38;5;124m'\u001b[39m\u001b[38;5;124mo\u001b[39m\u001b[38;5;124m'\u001b[39m,color\u001b[38;5;241m=\u001b[39m\u001b[38;5;124m'\u001b[39m\u001b[38;5;124mg\u001b[39m\u001b[38;5;124m'\u001b[39m,figsize\u001b[38;5;241m=\u001b[39m(\u001b[38;5;241m10\u001b[39m,\u001b[38;5;241m5\u001b[39m),grid\u001b[38;5;241m=\u001b[39m\u001b[38;5;28;01mTrue\u001b[39;00m,rot\u001b[38;5;241m=\u001b[39m\u001b[38;5;241m45\u001b[39m)\n\u001b[0;32m      2\u001b[0m df[\u001b[38;5;124m'\u001b[39m\u001b[38;5;124mpetal_width\u001b[39m\u001b[38;5;124m'\u001b[39m]\u001b[38;5;241m.\u001b[39mplot(kind\u001b[38;5;241m=\u001b[39m\u001b[38;5;124m'\u001b[39m\u001b[38;5;124mline\u001b[39m\u001b[38;5;124m'\u001b[39m,legend\u001b[38;5;241m=\u001b[39m\u001b[38;5;28;01mTrue\u001b[39;00m,marker\u001b[38;5;241m=\u001b[39m\u001b[38;5;124m\"\u001b[39m\u001b[38;5;124m.\u001b[39m\u001b[38;5;124m\"\u001b[39m,color\u001b[38;5;241m=\u001b[39m\u001b[38;5;124m'\u001b[39m\u001b[38;5;124my\u001b[39m\u001b[38;5;124m'\u001b[39m,figsize\u001b[38;5;241m=\u001b[39m(\u001b[38;5;241m10\u001b[39m,\u001b[38;5;241m5\u001b[39m),grid\u001b[38;5;241m=\u001b[39m\u001b[38;5;28;01mTrue\u001b[39;00m,rot\u001b[38;5;241m=\u001b[39m\u001b[38;5;241m45\u001b[39m)\n\u001b[0;32m      3\u001b[0m plt\u001b[38;5;241m.\u001b[39mtitle(\u001b[38;5;124m'\u001b[39m\u001b[38;5;124mPetal Length&Width\u001b[39m\u001b[38;5;124m'\u001b[39m,pad\u001b[38;5;241m=\u001b[39m\u001b[38;5;241m10\u001b[39m,loc\u001b[38;5;241m=\u001b[39m\u001b[38;5;124m'\u001b[39m\u001b[38;5;124mcenter\u001b[39m\u001b[38;5;124m'\u001b[39m,fontdict\u001b[38;5;241m=\u001b[39m{\u001b[38;5;124m'\u001b[39m\u001b[38;5;124mfontsize\u001b[39m\u001b[38;5;124m'\u001b[39m: \u001b[38;5;241m20\u001b[39m, \u001b[38;5;124m'\u001b[39m\u001b[38;5;124mcolor\u001b[39m\u001b[38;5;124m'\u001b[39m: \u001b[38;5;124m'\u001b[39m\u001b[38;5;124mr\u001b[39m\u001b[38;5;124m'\u001b[39m,\u001b[38;5;124m'\u001b[39m\u001b[38;5;124mverticalalignment\u001b[39m\u001b[38;5;124m'\u001b[39m: \u001b[38;5;124m'\u001b[39m\u001b[38;5;124mbaseline\u001b[39m\u001b[38;5;124m'\u001b[39m,})\n",
      "File \u001b[1;32m~\\anaconda3\\lib\\site-packages\\pandas\\core\\frame.py:3807\u001b[0m, in \u001b[0;36mDataFrame.__getitem__\u001b[1;34m(self, key)\u001b[0m\n\u001b[0;32m   3805\u001b[0m \u001b[38;5;28;01mif\u001b[39;00m \u001b[38;5;28mself\u001b[39m\u001b[38;5;241m.\u001b[39mcolumns\u001b[38;5;241m.\u001b[39mnlevels \u001b[38;5;241m>\u001b[39m \u001b[38;5;241m1\u001b[39m:\n\u001b[0;32m   3806\u001b[0m     \u001b[38;5;28;01mreturn\u001b[39;00m \u001b[38;5;28mself\u001b[39m\u001b[38;5;241m.\u001b[39m_getitem_multilevel(key)\n\u001b[1;32m-> 3807\u001b[0m indexer \u001b[38;5;241m=\u001b[39m \u001b[38;5;28;43mself\u001b[39;49m\u001b[38;5;241;43m.\u001b[39;49m\u001b[43mcolumns\u001b[49m\u001b[38;5;241;43m.\u001b[39;49m\u001b[43mget_loc\u001b[49m\u001b[43m(\u001b[49m\u001b[43mkey\u001b[49m\u001b[43m)\u001b[49m\n\u001b[0;32m   3808\u001b[0m \u001b[38;5;28;01mif\u001b[39;00m is_integer(indexer):\n\u001b[0;32m   3809\u001b[0m     indexer \u001b[38;5;241m=\u001b[39m [indexer]\n",
      "File \u001b[1;32m~\\anaconda3\\lib\\site-packages\\pandas\\core\\indexes\\base.py:3804\u001b[0m, in \u001b[0;36mIndex.get_loc\u001b[1;34m(self, key, method, tolerance)\u001b[0m\n\u001b[0;32m   3802\u001b[0m     \u001b[38;5;28;01mreturn\u001b[39;00m \u001b[38;5;28mself\u001b[39m\u001b[38;5;241m.\u001b[39m_engine\u001b[38;5;241m.\u001b[39mget_loc(casted_key)\n\u001b[0;32m   3803\u001b[0m \u001b[38;5;28;01mexcept\u001b[39;00m \u001b[38;5;167;01mKeyError\u001b[39;00m \u001b[38;5;28;01mas\u001b[39;00m err:\n\u001b[1;32m-> 3804\u001b[0m     \u001b[38;5;28;01mraise\u001b[39;00m \u001b[38;5;167;01mKeyError\u001b[39;00m(key) \u001b[38;5;28;01mfrom\u001b[39;00m \u001b[38;5;21;01merr\u001b[39;00m\n\u001b[0;32m   3805\u001b[0m \u001b[38;5;28;01mexcept\u001b[39;00m \u001b[38;5;167;01mTypeError\u001b[39;00m:\n\u001b[0;32m   3806\u001b[0m     \u001b[38;5;66;03m# If we have a listlike key, _check_indexing_error will raise\u001b[39;00m\n\u001b[0;32m   3807\u001b[0m     \u001b[38;5;66;03m#  InvalidIndexError. Otherwise we fall through and re-raise\u001b[39;00m\n\u001b[0;32m   3808\u001b[0m     \u001b[38;5;66;03m#  the TypeError.\u001b[39;00m\n\u001b[0;32m   3809\u001b[0m     \u001b[38;5;28mself\u001b[39m\u001b[38;5;241m.\u001b[39m_check_indexing_error(key)\n",
      "\u001b[1;31mKeyError\u001b[0m: 'petal_length'"
     ]
    }
   ],
   "source": [
    "df['petal_length'].plot(kind='line',legend=True,marker='o',color='g',figsize=(10,5),grid=True,rot=45)\n",
    "df['petal_width'].plot(kind='line',legend=True,marker=\".\",color='y',figsize=(10,5),grid=True,rot=45)\n",
    "plt.title('Petal Length&Width',pad=10,loc='center',fontdict={'fontsize': 20, 'color': 'r','verticalalignment': 'baseline',})\n",
    "plt.xlabel('Count',labelpad=20,loc='center',fontdict={'fontsize': 15, 'color': 'b','verticalalignment': 'baseline',})\n",
    "plt.ylabel('Length/Width',labelpad=20,loc='center',fontdict={'fontsize': 15, 'color': 'b','verticalalignment': 'baseline',})"
   ]
  },
  {
   "cell_type": "markdown",
   "id": "d1bcb7f9",
   "metadata": {
    "papermill": {
     "duration": 0.015042,
     "end_time": "2023-08-11T08:30:11.385457",
     "exception": false,
     "start_time": "2023-08-11T08:30:11.370415",
     "status": "completed"
    },
    "tags": []
   },
   "source": [
    "<h1 style=\"border:3px solid purple; padding: 15px;color:white;margin:10;font-size:200%;text-align:center;display:fill;border-radius:10px;overflow:hidden; color:purple;font-weight:bold; font-size:45px;\">Petal length is greater then Petal width</h1>"
   ]
  },
  {
   "cell_type": "code",
   "execution_count": 9,
   "id": "693dab1f",
   "metadata": {
    "execution": {
     "iopub.execute_input": "2023-08-11T08:30:11.415165Z",
     "iopub.status.busy": "2023-08-11T08:30:11.414186Z",
     "iopub.status.idle": "2023-08-11T08:30:11.922412Z",
     "shell.execute_reply": "2023-08-11T08:30:11.921416Z"
    },
    "papermill": {
     "duration": 0.526431,
     "end_time": "2023-08-11T08:30:11.925787",
     "exception": false,
     "start_time": "2023-08-11T08:30:11.399356",
     "status": "completed"
    },
    "tags": []
   },
   "outputs": [
    {
     "ename": "KeyError",
     "evalue": "'petal_length'",
     "output_type": "error",
     "traceback": [
      "\u001b[1;31m---------------------------------------------------------------------------\u001b[0m",
      "\u001b[1;31mKeyError\u001b[0m                                  Traceback (most recent call last)",
      "File \u001b[1;32m~\\anaconda3\\lib\\site-packages\\pandas\\core\\indexes\\base.py:3802\u001b[0m, in \u001b[0;36mIndex.get_loc\u001b[1;34m(self, key, method, tolerance)\u001b[0m\n\u001b[0;32m   3801\u001b[0m \u001b[38;5;28;01mtry\u001b[39;00m:\n\u001b[1;32m-> 3802\u001b[0m     \u001b[38;5;28;01mreturn\u001b[39;00m \u001b[38;5;28;43mself\u001b[39;49m\u001b[38;5;241;43m.\u001b[39;49m\u001b[43m_engine\u001b[49m\u001b[38;5;241;43m.\u001b[39;49m\u001b[43mget_loc\u001b[49m\u001b[43m(\u001b[49m\u001b[43mcasted_key\u001b[49m\u001b[43m)\u001b[49m\n\u001b[0;32m   3803\u001b[0m \u001b[38;5;28;01mexcept\u001b[39;00m \u001b[38;5;167;01mKeyError\u001b[39;00m \u001b[38;5;28;01mas\u001b[39;00m err:\n",
      "File \u001b[1;32m~\\anaconda3\\lib\\site-packages\\pandas\\_libs\\index.pyx:138\u001b[0m, in \u001b[0;36mpandas._libs.index.IndexEngine.get_loc\u001b[1;34m()\u001b[0m\n",
      "File \u001b[1;32m~\\anaconda3\\lib\\site-packages\\pandas\\_libs\\index.pyx:165\u001b[0m, in \u001b[0;36mpandas._libs.index.IndexEngine.get_loc\u001b[1;34m()\u001b[0m\n",
      "File \u001b[1;32mpandas\\_libs\\hashtable_class_helper.pxi:5745\u001b[0m, in \u001b[0;36mpandas._libs.hashtable.PyObjectHashTable.get_item\u001b[1;34m()\u001b[0m\n",
      "File \u001b[1;32mpandas\\_libs\\hashtable_class_helper.pxi:5753\u001b[0m, in \u001b[0;36mpandas._libs.hashtable.PyObjectHashTable.get_item\u001b[1;34m()\u001b[0m\n",
      "\u001b[1;31mKeyError\u001b[0m: 'petal_length'",
      "\nThe above exception was the direct cause of the following exception:\n",
      "\u001b[1;31mKeyError\u001b[0m                                  Traceback (most recent call last)",
      "Cell \u001b[1;32mIn[9], line 1\u001b[0m\n\u001b[1;32m----> 1\u001b[0m \u001b[43mdf\u001b[49m\u001b[43m[\u001b[49m\u001b[38;5;124;43m'\u001b[39;49m\u001b[38;5;124;43mpetal_length\u001b[39;49m\u001b[38;5;124;43m'\u001b[39;49m\u001b[43m]\u001b[49m\u001b[38;5;241m.\u001b[39mplot(kind\u001b[38;5;241m=\u001b[39m\u001b[38;5;124m'\u001b[39m\u001b[38;5;124mline\u001b[39m\u001b[38;5;124m'\u001b[39m,legend\u001b[38;5;241m=\u001b[39m\u001b[38;5;28;01mTrue\u001b[39;00m,marker\u001b[38;5;241m=\u001b[39m\u001b[38;5;124m'\u001b[39m\u001b[38;5;124mo\u001b[39m\u001b[38;5;124m'\u001b[39m,color\u001b[38;5;241m=\u001b[39m\u001b[38;5;124m'\u001b[39m\u001b[38;5;124mg\u001b[39m\u001b[38;5;124m'\u001b[39m,figsize\u001b[38;5;241m=\u001b[39m(\u001b[38;5;241m10\u001b[39m,\u001b[38;5;241m5\u001b[39m),grid\u001b[38;5;241m=\u001b[39m\u001b[38;5;28;01mTrue\u001b[39;00m,rot\u001b[38;5;241m=\u001b[39m\u001b[38;5;241m45\u001b[39m)\n\u001b[0;32m      2\u001b[0m df[\u001b[38;5;124m'\u001b[39m\u001b[38;5;124mpetal_width\u001b[39m\u001b[38;5;124m'\u001b[39m]\u001b[38;5;241m.\u001b[39mplot(kind\u001b[38;5;241m=\u001b[39m\u001b[38;5;124m'\u001b[39m\u001b[38;5;124mline\u001b[39m\u001b[38;5;124m'\u001b[39m,legend\u001b[38;5;241m=\u001b[39m\u001b[38;5;28;01mTrue\u001b[39;00m,marker\u001b[38;5;241m=\u001b[39m\u001b[38;5;124m\"\u001b[39m\u001b[38;5;124m.\u001b[39m\u001b[38;5;124m\"\u001b[39m,color\u001b[38;5;241m=\u001b[39m\u001b[38;5;124m'\u001b[39m\u001b[38;5;124my\u001b[39m\u001b[38;5;124m'\u001b[39m,figsize\u001b[38;5;241m=\u001b[39m(\u001b[38;5;241m10\u001b[39m,\u001b[38;5;241m5\u001b[39m),grid\u001b[38;5;241m=\u001b[39m\u001b[38;5;28;01mTrue\u001b[39;00m,rot\u001b[38;5;241m=\u001b[39m\u001b[38;5;241m45\u001b[39m)\n\u001b[0;32m      3\u001b[0m df[\u001b[38;5;124m'\u001b[39m\u001b[38;5;124msepal_length\u001b[39m\u001b[38;5;124m'\u001b[39m]\u001b[38;5;241m.\u001b[39mplot(kind\u001b[38;5;241m=\u001b[39m\u001b[38;5;124m'\u001b[39m\u001b[38;5;124mline\u001b[39m\u001b[38;5;124m'\u001b[39m,legend\u001b[38;5;241m=\u001b[39m\u001b[38;5;28;01mTrue\u001b[39;00m,marker\u001b[38;5;241m=\u001b[39m\u001b[38;5;124m\"\u001b[39m\u001b[38;5;124m*\u001b[39m\u001b[38;5;124m\"\u001b[39m,color\u001b[38;5;241m=\u001b[39m\u001b[38;5;124m'\u001b[39m\u001b[38;5;124mr\u001b[39m\u001b[38;5;124m'\u001b[39m,figsize\u001b[38;5;241m=\u001b[39m(\u001b[38;5;241m10\u001b[39m,\u001b[38;5;241m5\u001b[39m),grid\u001b[38;5;241m=\u001b[39m\u001b[38;5;28;01mTrue\u001b[39;00m,rot\u001b[38;5;241m=\u001b[39m\u001b[38;5;241m45\u001b[39m)\n",
      "File \u001b[1;32m~\\anaconda3\\lib\\site-packages\\pandas\\core\\frame.py:3807\u001b[0m, in \u001b[0;36mDataFrame.__getitem__\u001b[1;34m(self, key)\u001b[0m\n\u001b[0;32m   3805\u001b[0m \u001b[38;5;28;01mif\u001b[39;00m \u001b[38;5;28mself\u001b[39m\u001b[38;5;241m.\u001b[39mcolumns\u001b[38;5;241m.\u001b[39mnlevels \u001b[38;5;241m>\u001b[39m \u001b[38;5;241m1\u001b[39m:\n\u001b[0;32m   3806\u001b[0m     \u001b[38;5;28;01mreturn\u001b[39;00m \u001b[38;5;28mself\u001b[39m\u001b[38;5;241m.\u001b[39m_getitem_multilevel(key)\n\u001b[1;32m-> 3807\u001b[0m indexer \u001b[38;5;241m=\u001b[39m \u001b[38;5;28;43mself\u001b[39;49m\u001b[38;5;241;43m.\u001b[39;49m\u001b[43mcolumns\u001b[49m\u001b[38;5;241;43m.\u001b[39;49m\u001b[43mget_loc\u001b[49m\u001b[43m(\u001b[49m\u001b[43mkey\u001b[49m\u001b[43m)\u001b[49m\n\u001b[0;32m   3808\u001b[0m \u001b[38;5;28;01mif\u001b[39;00m is_integer(indexer):\n\u001b[0;32m   3809\u001b[0m     indexer \u001b[38;5;241m=\u001b[39m [indexer]\n",
      "File \u001b[1;32m~\\anaconda3\\lib\\site-packages\\pandas\\core\\indexes\\base.py:3804\u001b[0m, in \u001b[0;36mIndex.get_loc\u001b[1;34m(self, key, method, tolerance)\u001b[0m\n\u001b[0;32m   3802\u001b[0m     \u001b[38;5;28;01mreturn\u001b[39;00m \u001b[38;5;28mself\u001b[39m\u001b[38;5;241m.\u001b[39m_engine\u001b[38;5;241m.\u001b[39mget_loc(casted_key)\n\u001b[0;32m   3803\u001b[0m \u001b[38;5;28;01mexcept\u001b[39;00m \u001b[38;5;167;01mKeyError\u001b[39;00m \u001b[38;5;28;01mas\u001b[39;00m err:\n\u001b[1;32m-> 3804\u001b[0m     \u001b[38;5;28;01mraise\u001b[39;00m \u001b[38;5;167;01mKeyError\u001b[39;00m(key) \u001b[38;5;28;01mfrom\u001b[39;00m \u001b[38;5;21;01merr\u001b[39;00m\n\u001b[0;32m   3805\u001b[0m \u001b[38;5;28;01mexcept\u001b[39;00m \u001b[38;5;167;01mTypeError\u001b[39;00m:\n\u001b[0;32m   3806\u001b[0m     \u001b[38;5;66;03m# If we have a listlike key, _check_indexing_error will raise\u001b[39;00m\n\u001b[0;32m   3807\u001b[0m     \u001b[38;5;66;03m#  InvalidIndexError. Otherwise we fall through and re-raise\u001b[39;00m\n\u001b[0;32m   3808\u001b[0m     \u001b[38;5;66;03m#  the TypeError.\u001b[39;00m\n\u001b[0;32m   3809\u001b[0m     \u001b[38;5;28mself\u001b[39m\u001b[38;5;241m.\u001b[39m_check_indexing_error(key)\n",
      "\u001b[1;31mKeyError\u001b[0m: 'petal_length'"
     ]
    }
   ],
   "source": [
    "df['petal_length'].plot(kind='line',legend=True,marker='o',color='g',figsize=(10,5),grid=True,rot=45)\n",
    "df['petal_width'].plot(kind='line',legend=True,marker=\".\",color='y',figsize=(10,5),grid=True,rot=45)\n",
    "df['sepal_length'].plot(kind='line',legend=True,marker=\"*\",color='r',figsize=(10,5),grid=True,rot=45)\n",
    "df['sepal_width'].plot(kind='line',legend=True,marker=\"p\",color='b',figsize=(10,5),grid=True,rot=45)\n",
    "plt.title('Petal/Petal Length&Width',pad=10,loc='center',fontdict={'fontsize': 20, 'color': 'r','verticalalignment': 'baseline',})\n",
    "plt.xlabel('Count',labelpad=20,loc='center',fontdict={'fontsize': 15, 'color': 'b','verticalalignment': 'baseline',})\n",
    "plt.ylabel('Length/Width',labelpad=20,loc='center',fontdict={'fontsize': 15, 'color': 'b','verticalalignment': 'baseline',})"
   ]
  },
  {
   "cell_type": "markdown",
   "id": "8fde600f",
   "metadata": {
    "papermill": {
     "duration": 0.016378,
     "end_time": "2023-08-11T08:30:11.958541",
     "exception": false,
     "start_time": "2023-08-11T08:30:11.942163",
     "status": "completed"
    },
    "tags": []
   },
   "source": [
    "<h1 style=\"border:3px solid purple; padding: 15px;color:white;margin:10;font-size:200%;text-align:center;display:fill;border-radius:10px;overflow:hidden; color:purple;font-weight:bold; font-size:45px;\">Data Visualization</h1>"
   ]
  },
  {
   "cell_type": "code",
   "execution_count": null,
   "id": "3eea9e87",
   "metadata": {
    "execution": {
     "iopub.execute_input": "2023-08-11T08:30:11.993463Z",
     "iopub.status.busy": "2023-08-11T08:30:11.992638Z",
     "iopub.status.idle": "2023-08-11T08:30:19.320203Z",
     "shell.execute_reply": "2023-08-11T08:30:19.319312Z"
    },
    "papermill": {
     "duration": 7.347949,
     "end_time": "2023-08-11T08:30:19.323131",
     "exception": false,
     "start_time": "2023-08-11T08:30:11.975182",
     "status": "completed"
    },
    "tags": []
   },
   "outputs": [],
   "source": [
    "plt.figure(figsize=(17,6))\n",
    "sns.pairplot(df,hue='species',kind='hist')"
   ]
  },
  {
   "cell_type": "code",
   "execution_count": null,
   "id": "c8943420",
   "metadata": {
    "execution": {
     "iopub.execute_input": "2023-08-11T08:30:19.381608Z",
     "iopub.status.busy": "2023-08-11T08:30:19.381236Z",
     "iopub.status.idle": "2023-08-11T08:30:27.956217Z",
     "shell.execute_reply": "2023-08-11T08:30:27.955327Z"
    },
    "papermill": {
     "duration": 8.609244,
     "end_time": "2023-08-11T08:30:27.963036",
     "exception": false,
     "start_time": "2023-08-11T08:30:19.353792",
     "status": "completed"
    },
    "tags": []
   },
   "outputs": [],
   "source": [
    "plt.figure(figsize=(17,6))\n",
    "sns.pairplot(df,hue='species',kind='kde')"
   ]
  },
  {
   "cell_type": "code",
   "execution_count": null,
   "id": "a502c013",
   "metadata": {
    "execution": {
     "iopub.execute_input": "2023-08-11T08:30:28.020832Z",
     "iopub.status.busy": "2023-08-11T08:30:28.019963Z",
     "iopub.status.idle": "2023-08-11T08:30:28.197044Z",
     "shell.execute_reply": "2023-08-11T08:30:28.195598Z"
    },
    "papermill": {
     "duration": 0.208553,
     "end_time": "2023-08-11T08:30:28.200325",
     "exception": false,
     "start_time": "2023-08-11T08:30:27.991772",
     "status": "completed"
    },
    "tags": []
   },
   "outputs": [],
   "source": [
    "plt.figure(figsize=(17,6))\n",
    "df['species'].value_counts().plot(kind='pie',autopct='%0.2f%%',ylabel='',title='Species')\n"
   ]
  },
  {
   "cell_type": "code",
   "execution_count": null,
   "id": "67d88af2",
   "metadata": {
    "execution": {
     "iopub.execute_input": "2023-08-11T08:30:28.291067Z",
     "iopub.status.busy": "2023-08-11T08:30:28.290269Z",
     "iopub.status.idle": "2023-08-11T08:30:28.723335Z",
     "shell.execute_reply": "2023-08-11T08:30:28.722363Z"
    },
    "papermill": {
     "duration": 0.465969,
     "end_time": "2023-08-11T08:30:28.725615",
     "exception": false,
     "start_time": "2023-08-11T08:30:28.259646",
     "status": "completed"
    },
    "tags": []
   },
   "outputs": [],
   "source": [
    "# # plt.figure(figsize=(17,6))\n",
    "# sns.scatterplot(df['sepal_length'],df['sepal_width'],hue=df['species'])\n",
    "# plt.legend(loc='upper right')\n",
    "# plt.title('Sepal Length/Width')\n",
    "plt.figure(figsize=(17, 6))\n",
    "sns.scatterplot(data=df, x='sepal_length', y='sepal_width', hue='species')\n",
    "plt.legend(loc='upper right')\n",
    "plt.title('Sepal Length vs. Sepal Width')\n",
    "plt.xlabel('Sepal Length')\n",
    "plt.ylabel('Sepal Width')\n",
    "plt.show()"
   ]
  },
  {
   "cell_type": "code",
   "execution_count": null,
   "id": "d674220f",
   "metadata": {
    "execution": {
     "iopub.execute_input": "2023-08-11T08:30:28.78931Z",
     "iopub.status.busy": "2023-08-11T08:30:28.787533Z",
     "iopub.status.idle": "2023-08-11T08:30:29.199337Z",
     "shell.execute_reply": "2023-08-11T08:30:29.198366Z"
    },
    "papermill": {
     "duration": 0.445211,
     "end_time": "2023-08-11T08:30:29.201566",
     "exception": false,
     "start_time": "2023-08-11T08:30:28.756355",
     "status": "completed"
    },
    "tags": []
   },
   "outputs": [],
   "source": [
    "plt.figure(figsize=(17, 6))\n",
    "sns.scatterplot(data=df, x='petal_length', y='petal_width', hue='species')\n",
    "plt.legend(loc='upper left')\n",
    "plt.title('Petal Length vs. Petal Width')\n",
    "plt.xlabel('Petal Length')\n",
    "plt.ylabel('Petal Width')\n",
    "plt.show()"
   ]
  },
  {
   "cell_type": "code",
   "execution_count": null,
   "id": "2140817c",
   "metadata": {
    "execution": {
     "iopub.execute_input": "2023-08-11T08:30:29.268431Z",
     "iopub.status.busy": "2023-08-11T08:30:29.267368Z",
     "iopub.status.idle": "2023-08-11T08:30:29.876331Z",
     "shell.execute_reply": "2023-08-11T08:30:29.875271Z"
    },
    "papermill": {
     "duration": 0.645342,
     "end_time": "2023-08-11T08:30:29.878766",
     "exception": false,
     "start_time": "2023-08-11T08:30:29.233424",
     "status": "completed"
    },
    "tags": []
   },
   "outputs": [],
   "source": [
    "# Create subplots for sepal width and sepal length\n",
    "fig, axes = plt.subplots(1, 2, figsize=(12, 6))\n",
    "\n",
    "# Box plot for sepal width\n",
    "sns.boxplot(data=df, x='species', y='sepal_width', ax=axes[0])\n",
    "axes[0].set_title('Sepal Width by Species')\n",
    "axes[0].set_xlabel('Species')\n",
    "axes[0].set_ylabel('Sepal Width')\n",
    "\n",
    "# Box plot for sepal length\n",
    "sns.boxplot(data=df, x='species', y='sepal_length', ax=axes[1])\n",
    "axes[1].set_title('Sepal Length by Species')\n",
    "axes[1].set_xlabel('Species')\n",
    "axes[1].set_ylabel('Sepal Length')\n",
    "\n",
    "plt.tight_layout()\n",
    "plt.show()"
   ]
  },
  {
   "cell_type": "code",
   "execution_count": null,
   "id": "46d1f1a3",
   "metadata": {
    "execution": {
     "iopub.execute_input": "2023-08-11T08:30:29.94967Z",
     "iopub.status.busy": "2023-08-11T08:30:29.949307Z",
     "iopub.status.idle": "2023-08-11T08:30:31.602086Z",
     "shell.execute_reply": "2023-08-11T08:30:31.601116Z"
    },
    "papermill": {
     "duration": 1.690444,
     "end_time": "2023-08-11T08:30:31.604322",
     "exception": false,
     "start_time": "2023-08-11T08:30:29.913878",
     "status": "completed"
    },
    "tags": []
   },
   "outputs": [],
   "source": [
    "# # Density distribution plots for different features\n",
    "# plt.figure(figsize=(10, 6))\n",
    "\n",
    "# sns.distplot(df['sepal_length'], label='Sepal Length', hist=False)\n",
    "# sns.distplot(df['sepal_width'], label='Sepal Width', hist=False)\n",
    "# sns.distplot(df['petal_length'], label='Petal Length', hist=False)\n",
    "# sns.distplot(df['petal_width'], label='Petal Width', hist=False)\n",
    "\n",
    "# plt.legend()\n",
    "# plt.title('Density Distribution of Iris Flower Features')\n",
    "# plt.xlabel('Feature Values')\n",
    "# plt.ylabel('Density')\n",
    "# plt.show()\n",
    "# Density distribution plots for different features\n",
    "plt.figure(figsize=(10, 6))\n",
    "\n",
    "sns.displot(data=df, x='sepal_length', label='Sepal Length', kde=True)\n",
    "sns.displot(data=df, x='sepal_width', label='Sepal Width', kde=True)\n",
    "sns.displot(data=df, x='petal_length', label='Petal Length', kde=True)\n",
    "sns.displot(data=df, x='petal_width', label='Petal Width', kde=True)\n",
    "\n",
    "plt.legend()\n",
    "plt.title('Density Distribution of Iris Flower Features')\n",
    "plt.xlabel('Feature Values')\n",
    "plt.ylabel('Density')\n",
    "plt.show()"
   ]
  },
  {
   "cell_type": "code",
   "execution_count": null,
   "id": "2ac37b4e",
   "metadata": {
    "execution": {
     "iopub.execute_input": "2023-08-11T08:30:31.673974Z",
     "iopub.status.busy": "2023-08-11T08:30:31.673639Z",
     "iopub.status.idle": "2023-08-11T08:30:31.678507Z",
     "shell.execute_reply": "2023-08-11T08:30:31.677458Z"
    },
    "papermill": {
     "duration": 0.041677,
     "end_time": "2023-08-11T08:30:31.68054",
     "exception": false,
     "start_time": "2023-08-11T08:30:31.638863",
     "status": "completed"
    },
    "tags": []
   },
   "outputs": [],
   "source": [
    "le = LabelEncoder()"
   ]
  },
  {
   "cell_type": "code",
   "execution_count": null,
   "id": "6438d91e",
   "metadata": {
    "execution": {
     "iopub.execute_input": "2023-08-11T08:30:31.752047Z",
     "iopub.status.busy": "2023-08-11T08:30:31.751164Z",
     "iopub.status.idle": "2023-08-11T08:30:31.77004Z",
     "shell.execute_reply": "2023-08-11T08:30:31.768949Z"
    },
    "papermill": {
     "duration": 0.056712,
     "end_time": "2023-08-11T08:30:31.772314",
     "exception": false,
     "start_time": "2023-08-11T08:30:31.715602",
     "status": "completed"
    },
    "tags": []
   },
   "outputs": [],
   "source": [
    "df['species']=le.fit_transform(df['species'])\n",
    "df"
   ]
  },
  {
   "cell_type": "markdown",
   "id": "65d749f4",
   "metadata": {
    "papermill": {
     "duration": 0.033839,
     "end_time": "2023-08-11T08:30:31.841955",
     "exception": false,
     "start_time": "2023-08-11T08:30:31.808116",
     "status": "completed"
    },
    "tags": []
   },
   "source": [
    "<h1 style=\"border:3px solid purple; padding: 15px;color:white;margin:10;font-size:200%;text-align:center;display:fill;border-radius:10px;overflow:hidden; color:purple;font-weight:bold; font-size:45px;\">Model  Train & Test</h1>"
   ]
  },
  {
   "cell_type": "code",
   "execution_count": null,
   "id": "8c7096f7",
   "metadata": {
    "execution": {
     "iopub.execute_input": "2023-08-11T08:30:31.911517Z",
     "iopub.status.busy": "2023-08-11T08:30:31.910673Z",
     "iopub.status.idle": "2023-08-11T08:30:31.91777Z",
     "shell.execute_reply": "2023-08-11T08:30:31.916716Z"
    },
    "papermill": {
     "duration": 0.044149,
     "end_time": "2023-08-11T08:30:31.919962",
     "exception": false,
     "start_time": "2023-08-11T08:30:31.875813",
     "status": "completed"
    },
    "tags": []
   },
   "outputs": [],
   "source": [
    "X_train,X_test,y_train,y_test = train_test_split(df.iloc[:,:4],df['species'],test_size=0.2,random_state=2)"
   ]
  },
  {
   "cell_type": "code",
   "execution_count": null,
   "id": "68c79f2c",
   "metadata": {
    "execution": {
     "iopub.execute_input": "2023-08-11T08:30:31.99001Z",
     "iopub.status.busy": "2023-08-11T08:30:31.988378Z",
     "iopub.status.idle": "2023-08-11T08:30:31.993538Z",
     "shell.execute_reply": "2023-08-11T08:30:31.992641Z"
    },
    "papermill": {
     "duration": 0.040854,
     "end_time": "2023-08-11T08:30:31.99547",
     "exception": false,
     "start_time": "2023-08-11T08:30:31.954616",
     "status": "completed"
    },
    "tags": []
   },
   "outputs": [],
   "source": [
    "lor = LogisticRegression()"
   ]
  },
  {
   "cell_type": "code",
   "execution_count": null,
   "id": "119ad695",
   "metadata": {
    "execution": {
     "iopub.execute_input": "2023-08-11T08:30:32.06457Z",
     "iopub.status.busy": "2023-08-11T08:30:32.063777Z",
     "iopub.status.idle": "2023-08-11T08:30:32.101138Z",
     "shell.execute_reply": "2023-08-11T08:30:32.10012Z"
    },
    "papermill": {
     "duration": 0.073271,
     "end_time": "2023-08-11T08:30:32.103194",
     "exception": false,
     "start_time": "2023-08-11T08:30:32.029923",
     "status": "completed"
    },
    "tags": []
   },
   "outputs": [],
   "source": [
    "lor.fit(X_train,y_train)"
   ]
  },
  {
   "cell_type": "code",
   "execution_count": null,
   "id": "3da2e77f",
   "metadata": {
    "execution": {
     "iopub.execute_input": "2023-08-11T08:30:32.172562Z",
     "iopub.status.busy": "2023-08-11T08:30:32.171754Z",
     "iopub.status.idle": "2023-08-11T08:30:32.179657Z",
     "shell.execute_reply": "2023-08-11T08:30:32.178557Z"
    },
    "papermill": {
     "duration": 0.044663,
     "end_time": "2023-08-11T08:30:32.181997",
     "exception": false,
     "start_time": "2023-08-11T08:30:32.137334",
     "status": "completed"
    },
    "tags": []
   },
   "outputs": [],
   "source": [
    "test = lor.predict(X_test)\n",
    "for tests in test:\n",
    "    print(\"->\",tests)"
   ]
  },
  {
   "cell_type": "code",
   "execution_count": null,
   "id": "547cc922",
   "metadata": {
    "execution": {
     "iopub.execute_input": "2023-08-11T08:30:32.253661Z",
     "iopub.status.busy": "2023-08-11T08:30:32.252308Z",
     "iopub.status.idle": "2023-08-11T08:30:32.262226Z",
     "shell.execute_reply": "2023-08-11T08:30:32.261107Z"
    },
    "papermill": {
     "duration": 0.046821,
     "end_time": "2023-08-11T08:30:32.264641",
     "exception": false,
     "start_time": "2023-08-11T08:30:32.21782",
     "status": "completed"
    },
    "tags": []
   },
   "outputs": [],
   "source": [
    "lor.score(X_test,y_test)"
   ]
  },
  {
   "cell_type": "markdown",
   "id": "a78d0b0f",
   "metadata": {
    "papermill": {
     "duration": 0.033099,
     "end_time": "2023-08-11T08:30:32.333842",
     "exception": false,
     "start_time": "2023-08-11T08:30:32.300743",
     "status": "completed"
    },
    "tags": []
   },
   "source": [
    "<h4 style=\"color:purple;\">without scaling 96.6% accuracy</h4>"
   ]
  },
  {
   "cell_type": "code",
   "execution_count": null,
   "id": "971fd881",
   "metadata": {
    "execution": {
     "iopub.execute_input": "2023-08-11T08:30:32.40969Z",
     "iopub.status.busy": "2023-08-11T08:30:32.409326Z",
     "iopub.status.idle": "2023-08-11T08:30:32.416205Z",
     "shell.execute_reply": "2023-08-11T08:30:32.415222Z"
    },
    "papermill": {
     "duration": 0.049915,
     "end_time": "2023-08-11T08:30:32.418597",
     "exception": false,
     "start_time": "2023-08-11T08:30:32.368682",
     "status": "completed"
    },
    "tags": []
   },
   "outputs": [],
   "source": [
    "y_test.values"
   ]
  },
  {
   "cell_type": "markdown",
   "id": "c5a806d8",
   "metadata": {
    "papermill": {
     "duration": 0.034174,
     "end_time": "2023-08-11T08:30:32.489699",
     "exception": false,
     "start_time": "2023-08-11T08:30:32.455525",
     "status": "completed"
    },
    "tags": []
   },
   "source": [
    "<h1 style=\"border:3px solid purple; padding: 15px;color:white;margin:10;font-size:200%;text-align:center;display:fill;border-radius:10px;overflow:hidden; color:purple;font-weight:bold; font-size:45px;\">Using Feature Scaling</h1>"
   ]
  },
  {
   "cell_type": "code",
   "execution_count": null,
   "id": "69e87f31",
   "metadata": {
    "execution": {
     "iopub.execute_input": "2023-08-11T08:30:32.563796Z",
     "iopub.status.busy": "2023-08-11T08:30:32.563457Z",
     "iopub.status.idle": "2023-08-11T08:30:32.568852Z",
     "shell.execute_reply": "2023-08-11T08:30:32.567764Z"
    },
    "papermill": {
     "duration": 0.046176,
     "end_time": "2023-08-11T08:30:32.571204",
     "exception": false,
     "start_time": "2023-08-11T08:30:32.525028",
     "status": "completed"
    },
    "tags": []
   },
   "outputs": [],
   "source": [
    "minmax = MinMaxScaler()"
   ]
  },
  {
   "cell_type": "code",
   "execution_count": null,
   "id": "e0001b79",
   "metadata": {
    "execution": {
     "iopub.execute_input": "2023-08-11T08:30:32.648539Z",
     "iopub.status.busy": "2023-08-11T08:30:32.648171Z",
     "iopub.status.idle": "2023-08-11T08:30:32.657807Z",
     "shell.execute_reply": "2023-08-11T08:30:32.656614Z"
    },
    "papermill": {
     "duration": 0.050189,
     "end_time": "2023-08-11T08:30:32.660037",
     "exception": false,
     "start_time": "2023-08-11T08:30:32.609848",
     "status": "completed"
    },
    "tags": []
   },
   "outputs": [],
   "source": [
    "x_train= minmax.fit_transform(X_train)\n",
    "x_test= minmax.fit_transform(X_test)"
   ]
  },
  {
   "cell_type": "code",
   "execution_count": null,
   "id": "984afe8e",
   "metadata": {
    "execution": {
     "iopub.execute_input": "2023-08-11T08:30:32.732211Z",
     "iopub.status.busy": "2023-08-11T08:30:32.731917Z",
     "iopub.status.idle": "2023-08-11T08:30:32.747474Z",
     "shell.execute_reply": "2023-08-11T08:30:32.746376Z"
    },
    "papermill": {
     "duration": 0.053592,
     "end_time": "2023-08-11T08:30:32.74966",
     "exception": false,
     "start_time": "2023-08-11T08:30:32.696068",
     "status": "completed"
    },
    "tags": []
   },
   "outputs": [],
   "source": [
    "lor.fit(x_train,y_train)"
   ]
  },
  {
   "cell_type": "code",
   "execution_count": null,
   "id": "346b96bb",
   "metadata": {
    "execution": {
     "iopub.execute_input": "2023-08-11T08:30:32.822129Z",
     "iopub.status.busy": "2023-08-11T08:30:32.820344Z",
     "iopub.status.idle": "2023-08-11T08:30:32.827732Z",
     "shell.execute_reply": "2023-08-11T08:30:32.826584Z"
    },
    "papermill": {
     "duration": 0.04569,
     "end_time": "2023-08-11T08:30:32.830661",
     "exception": false,
     "start_time": "2023-08-11T08:30:32.784971",
     "status": "completed"
    },
    "tags": []
   },
   "outputs": [],
   "source": [
    "test1= lor.predict(x_test)\n",
    "for test2 in test1:\n",
    "    print(\"->\",test2)"
   ]
  },
  {
   "cell_type": "code",
   "execution_count": null,
   "id": "5eb9ec96",
   "metadata": {
    "execution": {
     "iopub.execute_input": "2023-08-11T08:30:32.904907Z",
     "iopub.status.busy": "2023-08-11T08:30:32.904195Z",
     "iopub.status.idle": "2023-08-11T08:30:32.913433Z",
     "shell.execute_reply": "2023-08-11T08:30:32.912357Z"
    },
    "papermill": {
     "duration": 0.048262,
     "end_time": "2023-08-11T08:30:32.915727",
     "exception": false,
     "start_time": "2023-08-11T08:30:32.867465",
     "status": "completed"
    },
    "tags": []
   },
   "outputs": [],
   "source": [
    "lor.score(x_test,y_test)"
   ]
  },
  {
   "cell_type": "markdown",
   "id": "9ac4c992",
   "metadata": {
    "papermill": {
     "duration": 0.034962,
     "end_time": "2023-08-11T08:30:32.9875",
     "exception": false,
     "start_time": "2023-08-11T08:30:32.952538",
     "status": "completed"
    },
    "tags": []
   },
   "source": [
    "<h1 style=\"border:3px solid purple; padding: 15px;color:white;margin:10;font-size:200%;text-align:center;display:fill;border-radius:10px;overflow:hidden; color:yellow;font-weight:bold; font-size:45px; background-color:purple;\">Thank You</h1>"
   ]
  },
  {
   "cell_type": "code",
   "execution_count": null,
   "id": "2973dd87",
   "metadata": {
    "papermill": {
     "duration": 0.039086,
     "end_time": "2023-08-11T08:30:33.063796",
     "exception": false,
     "start_time": "2023-08-11T08:30:33.02471",
     "status": "completed"
    },
    "tags": []
   },
   "outputs": [],
   "source": []
  },
  {
   "cell_type": "code",
   "execution_count": null,
   "id": "cb19f127",
   "metadata": {},
   "outputs": [],
   "source": []
  },
  {
   "cell_type": "code",
   "execution_count": null,
   "id": "f9fb8559",
   "metadata": {},
   "outputs": [],
   "source": []
  },
  {
   "cell_type": "code",
   "execution_count": null,
   "id": "c1179c29",
   "metadata": {},
   "outputs": [],
   "source": []
  },
  {
   "cell_type": "code",
   "execution_count": null,
   "id": "8f0517d7",
   "metadata": {},
   "outputs": [],
   "source": []
  },
  {
   "cell_type": "code",
   "execution_count": null,
   "id": "e78b817d",
   "metadata": {},
   "outputs": [],
   "source": []
  },
  {
   "cell_type": "code",
   "execution_count": null,
   "id": "569db222",
   "metadata": {},
   "outputs": [],
   "source": []
  },
  {
   "cell_type": "code",
   "execution_count": null,
   "id": "4c44bbe0",
   "metadata": {},
   "outputs": [],
   "source": []
  },
  {
   "cell_type": "code",
   "execution_count": null,
   "id": "d767ebc5",
   "metadata": {},
   "outputs": [],
   "source": []
  },
  {
   "cell_type": "code",
   "execution_count": null,
   "id": "94c510f3",
   "metadata": {},
   "outputs": [],
   "source": []
  },
  {
   "cell_type": "code",
   "execution_count": null,
   "id": "d316b01c",
   "metadata": {},
   "outputs": [],
   "source": []
  },
  {
   "cell_type": "code",
   "execution_count": null,
   "id": "ad5889e9",
   "metadata": {},
   "outputs": [],
   "source": []
  },
  {
   "cell_type": "code",
   "execution_count": null,
   "id": "65bd6df1",
   "metadata": {},
   "outputs": [],
   "source": []
  },
  {
   "cell_type": "code",
   "execution_count": null,
   "id": "b291600b",
   "metadata": {},
   "outputs": [],
   "source": []
  },
  {
   "cell_type": "code",
   "execution_count": null,
   "id": "f530e140",
   "metadata": {},
   "outputs": [],
   "source": []
  }
 ],
 "metadata": {
  "kernelspec": {
   "display_name": "Python 3 (ipykernel)",
   "language": "python",
   "name": "python3"
  },
  "language_info": {
   "codemirror_mode": {
    "name": "ipython",
    "version": 3
   },
   "file_extension": ".py",
   "mimetype": "text/x-python",
   "name": "python",
   "nbconvert_exporter": "python",
   "pygments_lexer": "ipython3",
   "version": "3.10.9"
  },
  "papermill": {
   "default_parameters": {},
   "duration": 37.09175,
   "end_time": "2023-08-11T08:30:34.119701",
   "environment_variables": {},
   "exception": null,
   "input_path": "__notebook__.ipynb",
   "output_path": "__notebook__.ipynb",
   "parameters": {},
   "start_time": "2023-08-11T08:29:57.027951",
   "version": "2.4.0"
  }
 },
 "nbformat": 4,
 "nbformat_minor": 5
}
